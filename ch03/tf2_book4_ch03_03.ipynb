{
 "cells": [
  {
   "cell_type": "markdown",
   "id": "brief-replacement",
   "metadata": {},
   "source": [
    "# 3.3 tf.GradientDescentOptimizer クラスで多項式の回帰問題を解く\n",
    "\n",
    "## 多項式の回帰問題を解く\n",
    "\n"
   ]
  },
  {
   "cell_type": "code",
   "execution_count": 1,
   "id": "severe-bearing",
   "metadata": {},
   "outputs": [],
   "source": [
    "# 3-03-1 データの標準化まで\n",
    "def standardize(x):\n",
    "    x_mean = x.mean()\n",
    "    std = x.std()\n",
    "    return (x - x_mean) / std"
   ]
  },
  {
   "cell_type": "code",
   "execution_count": 2,
   "id": "frozen-bahamas",
   "metadata": {},
   "outputs": [],
   "source": [
    "import numpy as np\n",
    "import os\n",
    "\n",
    "DIR=\"../local/sample/chap03/03_03/\"\n",
    "data_path = os.path.join(DIR, 'sales.csv')\n",
    "\n",
    "data =  np.loadtxt(fname=data_path,\n",
    "                   dtype='int', \n",
    "                   delimiter=',',\n",
    "                   skiprows=1     # 1行目はタイトルなので読み飛ばす\n",
    "                  )\n",
    "train_x = data[:, 0]   # cost\n",
    "train_y = data[:, 1]   # sales\n",
    "\n",
    "train_x_std = standardize(train_x)\n",
    "train_y_std = standardize(train_y)"
   ]
  },
  {
   "cell_type": "markdown",
   "id": "selected-weather",
   "metadata": {},
   "source": [
    "### グラフを描画する"
   ]
  },
  {
   "cell_type": "code",
   "execution_count": 3,
   "id": "fallen-miniature",
   "metadata": {},
   "outputs": [
    {
     "data": {
      "image/png": "[encoded data removed]",
      "text/plain": [
       "<Figure size 864x288 with 2 Axes>"
      ]
     },
     "metadata": {
      "needs_background": "light"
     },
     "output_type": "display_data"
    }
   ],
   "source": [
    "%matplotlib inline\n",
    "import matplotlib.pyplot as plt\n",
    "\n",
    "fig, ax = plt.subplots(1, 2, figsize=(6*2,4))\n",
    "ax[0].scatter(train_x, train_y)\n",
    "ax[0].set_title('original data')\n",
    "ax[1].scatter(train_x_std, train_y_std)\n",
    "ax[1].set_title('standardized data')\n",
    "\n",
    "plt.show()"
   ]
  },
  {
   "cell_type": "markdown",
   "id": "cleared-bacon",
   "metadata": {},
   "source": [
    "### 多項式回帰モデル、損失関数の作成"
   ]
  },
  {
   "cell_type": "code",
   "execution_count": 4,
   "id": "unique-alexandria",
   "metadata": {},
   "outputs": [],
   "source": [
    "# 3-03-2 データフローグラフ\n",
    "import tensorflow as tf\n",
    "\n",
    "b = tf.Variable(0.)\n",
    "w1 = tf.Variable(0.)\n",
    "w2 = tf.Variable(0.)\n",
    "w3 = tf.Variable(0.)\n",
    "w4 = tf.Variable(0.)"
   ]
  },
  {
   "cell_type": "code",
   "execution_count": 5,
   "id": "respiratory-literature",
   "metadata": {},
   "outputs": [],
   "source": [
    "def model(x):\n",
    "    '''\n",
    "    多項式回帰モデル\n",
    "    '''\n",
    "    y = b + w1 * x + w2 * pow(x,2) + w3 * pow(x, 3) + w4 * pow(x, 4)\n",
    "    return y"
   ]
  },
  {
   "cell_type": "code",
   "execution_count": 6,
   "id": "annoying-supervision",
   "metadata": {},
   "outputs": [],
   "source": [
    "def loss(y_pred, y_true):\n",
    "    '''\n",
    "    Mean Squared Error\n",
    "    '''\n",
    "    return tf.math.reduce_mean(tf.math.square(y_pred - y_true))"
   ]
  },
  {
   "cell_type": "markdown",
   "id": "southeast-jersey",
   "metadata": {},
   "source": [
    "### 勾配降下アルゴリズムによる最適化処理の実装\n"
   ]
  },
  {
   "cell_type": "code",
   "execution_count": 7,
   "id": "aboriginal-given",
   "metadata": {},
   "outputs": [
    {
     "name": "stdout",
     "output_type": "stream",
     "text": [
      "Step: 50 b=-0.04034848511219025 w1=0.2685434818267822 w2=0.02827165275812149 w3=0.250828355550766 w4=0.02852054499089718\n",
      "Loss=0.17421624064445496\n",
      "Step: 100 b=-0.07001537829637527 w1=0.3970474302768707 w2=0.05889112129807472 w3=0.20271700620651245 w4=0.024918755516409874\n",
      "Loss=0.13260361552238464\n",
      "Step: 150 b=-0.09625568240880966 w1=0.5059216618537903 w2=0.08497072756290436 w3=0.16168783605098724 w4=0.021987417712807655\n",
      "Loss=0.10256266593933105\n",
      "Step: 200 b=-0.11907878518104553 w1=0.598282516002655 w2=0.1073247566819191 w3=0.12687326967716217 w4=0.019497675821185112\n",
      "Loss=0.0808706283569336\n"
     ]
    }
   ],
   "source": [
    "# 3-03-3 セッション部\n",
    "learning_rate = 0.01\n",
    "epochs = 200\n",
    "\n",
    "for i in range(epochs):\n",
    "    with tf.GradientTape() as tape:\n",
    "        y_pred = model(train_x_std)\n",
    "        tmp_loss = loss(y_pred, train_y_std)\n",
    "    gradients = tape.gradient(tmp_loss, [b, w1, w2, w3, w4])\n",
    "    b.assign_sub(learning_rate * gradients[0])\n",
    "    w1.assign_sub(learning_rate * gradients[1])\n",
    "    w2.assign_sub(learning_rate * gradients[2])\n",
    "    w3.assign_sub(learning_rate * gradients[3])\n",
    "    w4.assign_sub(learning_rate * gradients[4])\n",
    "    \n",
    "    if (i + 1) % 50 == 0:\n",
    "        print(f'Step: {(i+1)} b={b.numpy()} w1={w1.numpy()} w2={w2.numpy()} w3={w3.numpy()} w4={w4.numpy()}')\n",
    "        print(f'Loss={tmp_loss}')"
   ]
  },
  {
   "cell_type": "markdown",
   "id": "legislative-stylus",
   "metadata": {},
   "source": [
    "グラフに描画して確認する。"
   ]
  },
  {
   "cell_type": "code",
   "execution_count": 8,
   "id": "sized-korean",
   "metadata": {},
   "outputs": [
    {
     "data": {
      "image/png": "[encoded data removed]",
      "text/plain": [
       "<Figure size 432x288 with 1 Axes>"
      ]
     },
     "metadata": {
      "needs_background": "light"
     },
     "output_type": "display_data"
    }
   ],
   "source": [
    "# 3-03-4 改 学習した重みで回帰モデルを描画する\n",
    "\n",
    "%matplotlib inline\n",
    "import matplotlib.pyplot as plt\n",
    "\n",
    "fig, ax = plt.subplots(1,1,figsize=(6,4))\n",
    "ax.scatter(train_x_std, train_y_std)\n",
    "\n",
    "max_x_std = max(train_x_std)\n",
    "min_x_std = min(train_x_std)\n",
    "x = np.linspace(min_x_std, max_x_std, 100)\n",
    "y = b + w1 * x + w2 * pow(x, 2) + w3 * pow(x, 3) + w4 * pow(x, 4)\n",
    "\n",
    "ax.plot(x, y, c='red')\n",
    "ax.grid(True)\n",
    "\n",
    "plt.show()"
   ]
  },
  {
   "cell_type": "code",
   "execution_count": null,
   "id": "aggregate-solution",
   "metadata": {},
   "outputs": [],
   "source": []
  }
 ],
 "metadata": {
  "kernelspec": {
   "display_name": "Python 3",
   "language": "python",
   "name": "python3"
  },
  "language_info": {
   "codemirror_mode": {
    "name": "ipython",
    "version": 3
   },
   "file_extension": ".py",
   "mimetype": "text/x-python",
   "name": "python",
   "nbconvert_exporter": "python",
   "pygments_lexer": "ipython3",
   "version": "3.6.12"
  }
 },
 "nbformat": 4,
 "nbformat_minor": 5
}
