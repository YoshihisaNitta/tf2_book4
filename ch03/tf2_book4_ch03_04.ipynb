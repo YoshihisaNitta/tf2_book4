{
 "cells": [
  {
   "cell_type": "markdown",
   "id": "fantastic-treasurer",
   "metadata": {},
   "source": [
    "# 3.4 パーセプトロンによる二値分類\n",
    "\n",
    "### パーセプトロンを実装する\n",
    "\n",
    "sample/chap03/03_04/negaposi.csv が存在しないので、p.123のグラフを見てデータを作成した。<a href=\"./negaposi.csv\">negaposi.csv</a>"
   ]
  },
  {
   "cell_type": "code",
   "execution_count": 1,
   "id": "exceptional-happening",
   "metadata": {},
   "outputs": [],
   "source": [
    "# p.122\n",
    "# データの読み込み\n",
    "import numpy as np\n",
    "import os\n",
    "\n",
    "#DIR=\"../local/sample/chap03/03_04/\"\n",
    "DIR=\".\"\n",
    "data_path = os.path.join(DIR, 'negaposi.csv')\n",
    "\n",
    "data =  np.loadtxt(fname=data_path,\n",
    "                   dtype='int', \n",
    "                   delimiter=',',\n",
    "                   skiprows=1     # 1行目はタイトルなので読み飛ばす\n",
    "                  )\n",
    "x = data[:, 0:2] # x, y\n",
    "t = data[:, 2]   # label"
   ]
  },
  {
   "cell_type": "code",
   "execution_count": 2,
   "id": "color-honduras",
   "metadata": {},
   "outputs": [
    {
     "data": {
      "image/png": "[encoded data removed]",
      "text/plain": [
       "<Figure size 432x288 with 1 Axes>"
      ]
     },
     "metadata": {
      "needs_background": "light"
     },
     "output_type": "display_data"
    }
   ],
   "source": [
    "# p.122 改\n",
    "# データをグラフで描画する\n",
    "%matplotlib inline\n",
    "import matplotlib.pyplot as plt\n",
    "\n",
    "fig, ax = plt.subplots(1, 1, figsize=(6,4))\n",
    "ax.scatter(x[t==1, 0], x[t==1, 1], marker='o',color='green')\n",
    "ax.scatter(x[t == -1, 0], x[t == -1, 1], marker='x', color='blue')\n",
    "\n",
    "plt.show()"
   ]
  },
  {
   "cell_type": "markdown",
   "id": "crucial-bottom",
   "metadata": {},
   "source": [
    "### パーセプトロンを実装する"
   ]
  },
  {
   "cell_type": "code",
   "execution_count": 3,
   "id": "seeing-albert",
   "metadata": {},
   "outputs": [],
   "source": [
    "# パーセプトロン(分類関数)の定義\n",
    "# p.123\n",
    "def classify(x, w):\n",
    "    '''\n",
    "    分類関数\n",
    "    \n",
    "    Parameters:\n",
    "    x(ndarray): x1, x2 のデータ\n",
    "    w(ndarray): 重み w1, w2 の値\n",
    "    \n",
    "    Returns:\n",
    "    (float) 更新後の重み w1, w2\n",
    "    '''\n",
    "    \n",
    "    if np.dot(w, x) >= 0:\n",
    "        return 1\n",
    "    else:\n",
    "        return -1"
   ]
  },
  {
   "cell_type": "code",
   "execution_count": 4,
   "id": "deadly-hopkins",
   "metadata": {},
   "outputs": [],
   "source": [
    "# 重みの更新式の実装\n",
    "# p.124\n",
    "def learn_weights(x, t):\n",
    "    '''\n",
    "    更新式で重みを学習する\n",
    "    \n",
    "    Parameers:\n",
    "    x(ndarray): x1, x2のデータ\n",
    "    t(ndarray): t 正解ラベル\n",
    "    \n",
    "    Returns:\n",
    "    (int) 更新後の重み w\n",
    "    '''\n",
    "    \n",
    "    np.random.seed(seed=1)\n",
    "    w = np.random.rand(2)\n",
    "    loop = 5\n",
    "    count = 0\n",
    "    \n",
    "    for i in range(loop):\n",
    "        for element_x, element_t in zip(x, t):\n",
    "            if classify(element_x, w) != element_t:\n",
    "                w = w + element_t * element_x\n",
    "                print('updated w = ', w)\n",
    "        count += 1\n",
    "        print(f'{count:d} 回目: w={w}')\n",
    "\n",
    "    return w"
   ]
  },
  {
   "cell_type": "code",
   "execution_count": 5,
   "id": "silver-extraction",
   "metadata": {},
   "outputs": [
    {
     "name": "stdout",
     "output_type": "stream",
     "text": [
      "updated w =  [  -9.582978   -209.27967551]\n",
      "updated w =  [ 260.417022   -189.27967551]\n",
      "updated w =  [-129.582978   -629.27967551]\n",
      "updated w =  [ 265.417022   -319.27967551]\n",
      "updated w =  [745.417022    80.72032449]\n",
      "1 回目: w=[745.417022    80.72032449]\n",
      "updated w =  [ 735.417022   -129.27967551]\n",
      "updated w =  [ 640.417022   -314.27967551]\n",
      "updated w =  [ 510.417022   -544.27967551]\n",
      "2 回目: w=[ 510.417022   -544.27967551]\n",
      "3 回目: w=[ 510.417022   -544.27967551]\n",
      "4 回目: w=[ 510.417022   -544.27967551]\n",
      "5 回目: w=[ 510.417022   -544.27967551]\n"
     ]
    }
   ],
   "source": [
    "# 訓練データで学習を行う\n",
    "# p.125\n",
    "\n",
    "w = learn_weights(x, t)"
   ]
  },
  {
   "cell_type": "code",
   "execution_count": 6,
   "id": "focused-discount",
   "metadata": {},
   "outputs": [
    {
     "data": {
      "image/png": "[encoded data removed]",
      "text/plain": [
       "<Figure size 432x288 with 1 Axes>"
      ]
     },
     "metadata": {
      "needs_background": "light"
     },
     "output_type": "display_data"
    }
   ],
   "source": [
    "# 訓練データと区分線を描画する\n",
    "# p.126 改\n",
    "\n",
    "%matplotlib inline\n",
    "import matplotlib.pyplot as plt\n",
    "\n",
    "fig, ax = plt.subplots(1, 1, figsize=(6,4))\n",
    "\n",
    "ax.scatter(x[t==1, 0], x[t==1, 1], marker='o',color='green')\n",
    "ax.scatter(x[t == -1, 0], x[t == -1, 1], marker='x', color='blue')\n",
    "\n",
    "min_x = min(x[:, 0])\n",
    "max_x = max(x[:, 0])\n",
    "x1 = np.arange(min_x, max_x)\n",
    "ax.plot(x1, -w[0] / w[1] * x1, color='red')\n",
    "\n",
    "plt.show()"
   ]
  },
  {
   "cell_type": "code",
   "execution_count": 7,
   "id": "romance-preserve",
   "metadata": {},
   "outputs": [
    {
     "name": "stdout",
     "output_type": "stream",
     "text": [
      "1\n"
     ]
    }
   ],
   "source": [
    "# 分類してみる\n",
    "test_x = [500, 100]\n",
    "\n",
    "print(classify(test_x, w))"
   ]
  },
  {
   "cell_type": "code",
   "execution_count": 8,
   "id": "sophisticated-philippines",
   "metadata": {},
   "outputs": [
    {
     "data": {
      "image/png": "[encoded data removed]",
      "text/plain": [
       "<Figure size 432x288 with 1 Axes>"
      ]
     },
     "metadata": {
      "needs_background": "light"
     },
     "output_type": "display_data"
    }
   ],
   "source": [
    "%matplotlib inline\n",
    "import matplotlib.pyplot as plt\n",
    "\n",
    "fig, ax = plt.subplots(1, 1, figsize=(6,4))\n",
    "\n",
    "ax.scatter(x[t==1, 0], x[t==1, 1], marker='o',color='green')         # positive data 緑の丸\n",
    "ax.scatter(x[t == -1, 0], x[t == -1, 1], marker='x', color='blue')   # negative data 青の×\n",
    "\n",
    "min_x = min(x[:, 0])\n",
    "max_x = max(x[:, 0])\n",
    "x1 = np.arange(min_x, max_x)\n",
    "ax.plot(x1, -w[0] / w[1] * x1, color='red')                  # 分類線は赤い実践\n",
    "\n",
    "ax.scatter(test_x[0], test_x[1], marker='v', color='orange') # 上で試した点 test_x = [500, 100] を黄色い三角で描画する\n",
    "\n",
    "plt.show()"
   ]
  },
  {
   "cell_type": "code",
   "execution_count": null,
   "id": "prostate-plate",
   "metadata": {},
   "outputs": [],
   "source": []
  }
 ],
 "metadata": {
  "kernelspec": {
   "display_name": "Python 3",
   "language": "python",
   "name": "python3"
  },
  "language_info": {
   "codemirror_mode": {
    "name": "ipython",
    "version": 3
   },
   "file_extension": ".py",
   "mimetype": "text/x-python",
   "name": "python",
   "nbconvert_exporter": "python",
   "pygments_lexer": "ipython3",
   "version": "3.6.12"
  }
 },
 "nbformat": 4,
 "nbformat_minor": 5
}
