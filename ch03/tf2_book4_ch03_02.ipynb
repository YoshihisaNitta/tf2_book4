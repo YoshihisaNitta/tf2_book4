{
 "cells": [
  {
   "cell_type": "markdown",
   "id": "hungry-comparison",
   "metadata": {},
   "source": [
    "# 3.2 tf.GradientTapeクラスで回帰問題を解く\n",
    "\n",
    "## 線形回帰分析による未知の値の予測\n",
    "\n",
    "「ネット広告 (cost) 」と「売上額 (sales) 」のデータ\n",
    "<a href=\"../local/sample/chap03/03_02/sales.csv\">sales.csv</a>"
   ]
  },
  {
   "cell_type": "code",
   "execution_count": 1,
   "id": "trying-sarah",
   "metadata": {},
   "outputs": [],
   "source": [
    "# csvデータをファイルからロードする\n",
    "import numpy as np\n",
    "import os\n",
    "\n",
    "DIR=\"../local/sample/chap03/03_02/\"\n",
    "data_path = os.path.join(DIR, 'sales.csv')\n",
    "\n",
    "data =  np.loadtxt(fname=data_path,\n",
    "                   dtype='int', \n",
    "                   delimiter=',',\n",
    "                   skiprows=1     # 1行目はタイトルなので読み飛ばす\n",
    "                  )\n",
    "train_x = data[:, 0]   # cost\n",
    "train_y = data[:, 1]   #sales"
   ]
  },
  {
   "cell_type": "code",
   "execution_count": 2,
   "id": "developmental-tooth",
   "metadata": {},
   "outputs": [
    {
     "data": {
      "image/png": "[encoded data removed]",
      "text/plain": [
       "<Figure size 432x288 with 1 Axes>"
      ]
     },
     "metadata": {
      "needs_background": "light"
     },
     "output_type": "display_data"
    }
   ],
   "source": [
    "# グラフを描く\n",
    "%matplotlib inline\n",
    "import matplotlib.pyplot as plt\n",
    "\n",
    "fig, ax = plt.subplots(1, 1, figsize=(6,4))\n",
    "ax.plot(train_x, train_y, 'o')\n",
    "\n",
    "plt.show()"
   ]
  },
  {
   "cell_type": "markdown",
   "id": "quantitative-tiffany",
   "metadata": {},
   "source": [
    "## 線形回帰分析の勾配降下アルゴリズムを tf.GradientType で実装する\n",
    "\n",
    "### データの標準化\n",
    "平均(mean)=0, 標準偏差(standard deviation)=1とする。"
   ]
  },
  {
   "cell_type": "code",
   "execution_count": 3,
   "id": "patient-daniel",
   "metadata": {},
   "outputs": [],
   "source": [
    "# s-02-3\n",
    "def standardize(x):\n",
    "    x_mean = x.mean()\n",
    "    std = x.std()\n",
    "    return (x - x_mean) / std"
   ]
  },
  {
   "cell_type": "code",
   "execution_count": 4,
   "id": "proof-weapon",
   "metadata": {},
   "outputs": [],
   "source": [
    "# 3-02-4\n",
    "\n",
    "train_x_std = standardize(train_x)\n",
    "train_y_std = standardize(train_y)"
   ]
  },
  {
   "cell_type": "code",
   "execution_count": 5,
   "id": "imposed-missile",
   "metadata": {},
   "outputs": [
    {
     "data": {
      "image/png": "[encoded data removed]",
      "text/plain": [
       "<Figure size 432x288 with 1 Axes>"
      ]
     },
     "metadata": {
      "needs_background": "light"
     },
     "output_type": "display_data"
    }
   ],
   "source": [
    "# グラフにプロットする\n",
    "%matplotlib inline\n",
    "import matplotlib.pyplot as plt\n",
    "\n",
    "fig, ax = plt.subplots(1, 1, figsize=(6,4))\n",
    "ax.plot(train_x_std, train_y_std, 'o')\n",
    "\n",
    "plt.show()"
   ]
  },
  {
   "cell_type": "code",
   "execution_count": 6,
   "id": "considered-express",
   "metadata": {},
   "outputs": [],
   "source": [
    "# 3-02-05 Variableオブジェクトを用意する\n",
    "import tensorflow as tf\n",
    "\n",
    "a = tf.Variable(0.)\n",
    "b = tf.Variable(0.)"
   ]
  },
  {
   "cell_type": "code",
   "execution_count": 7,
   "id": "olympic-pickup",
   "metadata": {},
   "outputs": [],
   "source": [
    "# 3-02-06 線形回帰モデルの定義\n",
    "def model(x):\n",
    "    '''\n",
    "    回帰モデル y = ax+b\n",
    "    '''\n",
    "    y = a * x + b\n",
    "    return y"
   ]
  },
  {
   "cell_type": "code",
   "execution_count": 8,
   "id": "elect-designer",
   "metadata": {},
   "outputs": [],
   "source": [
    "# 3-02-07 損失関数の定義\n",
    "def loss(y_pred, y_true):\n",
    "    '''\n",
    "    Mean Squared Errors 平均2乗誤差\n",
    "    '''\n",
    "    return tf.math.reduce_mean(tf.square(y_pred - y_true))"
   ]
  },
  {
   "cell_type": "markdown",
   "id": "liable-breakdown",
   "metadata": {},
   "source": [
    "## 勾配降下アルゴリズムの実装\n",
    "\n",
    "### tf.GradientTape()\n",
    "\n",
    "<code>tf.GradientTape([persistent=False, watch_accessed_variables=True])</code>\n",
    "\n",
    "TensorFlow の公式ガイドで、GradientTape オブジェクトの生成から計算式の登録まで with ブロックでまとめることが推奨されている。\n",
    "as で指定するオブジェクト変数は、定義後であればwithブロックの外部からでもアクセスできる。\n",
    "\n",
    "#### persistent\n",
    "\n",
    "永続的なテープ (記録する仕組み)を作成するかどうかを指定する(default: False)。\n",
    "複数の勾配を計算する場合は True を指定して、gradient()メソッドを複数回呼べるようにする。\n",
    "\n",
    "#### watch_accessed_variables\n",
    "\n",
    "変数をトレーニング(更新)可能とするかどうか(default: True)。\n",
    "\n",
    "### grdient()\n",
    "\n",
    "<code>gradient(\n",
    "    target, \n",
    "    sources[,\n",
    "    output_gradients=None, \n",
    "    unconnected_gradients=tf.UnconnectedGradients.NONE]\n",
    ")</code>\n",
    "\n",
    "GradientTape オブジェクトに記録された操作を使って、勾配を計算する。\n",
    "\n",
    "#### target\n",
    "勾配計算に用いるテンソルまたは変数のリスト。損失関数を指定する。\n",
    "\n",
    "#### sources\n",
    "入力するテンソルオブジェクト。この入力テンソルに対する target の微分が求められる。"
   ]
  },
  {
   "cell_type": "code",
   "execution_count": 9,
   "id": "logical-commonwealth",
   "metadata": {},
   "outputs": [
    {
     "name": "stdout",
     "output_type": "stream",
     "text": [
      "6.0\n"
     ]
    }
   ],
   "source": [
    "# GradientTape を利用した勾配計算の例\n",
    "\n",
    "x = tf.Variable(3.0)  # 変数を作成する\n",
    "with tf.GradientTape() as g:\n",
    "    g.watch(x)   # 省略可能\n",
    "    y = x * x\n",
    "\n",
    "grad = g.gradient(y, x) # dy/dx を計算する\n",
    "print(grad.numpy())"
   ]
  },
  {
   "cell_type": "code",
   "execution_count": 10,
   "id": "industrial-facial",
   "metadata": {},
   "outputs": [
    {
     "name": "stdout",
     "output_type": "stream",
     "text": [
      "Step: 5 a=0.639235 b=-0.000000 Loss=0.247664\n",
      "Step: 10 a=0.848700 b=-0.000000 Loss=0.112283\n",
      "Step: 15 a=0.917337 b=-0.000000 Loss=0.097746\n",
      "Step: 20 a=0.939828 b=-0.000000 Loss=0.096186\n",
      "Step: 25 a=0.947198 b=-0.000000 Loss=0.096018\n",
      "Step: 30 a=0.949613 b=-0.000000 Loss=0.096000\n",
      "Step: 35 a=0.950405 b=-0.000000 Loss=0.095998\n",
      "Step: 40 a=0.950664 b=-0.000000 Loss=0.095998\n",
      "Step: 45 a=0.950749 b=-0.000000 Loss=0.095998\n",
      "Step: 50 a=0.950777 b=-0.000000 Loss=0.095998\n"
     ]
    }
   ],
   "source": [
    "# 3-02-08 Gradient Descent による最適化処理の実装\n",
    "learning_rate = 0.1\n",
    "epochs = 50\n",
    "\n",
    "for i in range(epochs):\n",
    "    with tf.GradientTape() as tape:\n",
    "        y_pred = model(train_x_std)\n",
    "        tmp_loss = loss(y_pred, train_y_std)\n",
    "    gradients = tape.gradient(tmp_loss, [a,b]) # 変数a,bに対する tmp_lossの勾配\n",
    "    a.assign_sub(learning_rate * gradients[0])\n",
    "    b.assign_sub(learning_rate * gradients[1])\n",
    "    \n",
    "    if (i+1)%5 == 0:\n",
    "        print(f'Step: {(i+1)} a={a.value():.6f} b={b.value():.6f} Loss={tmp_loss:.6f}')"
   ]
  },
  {
   "cell_type": "markdown",
   "id": "understood-element",
   "metadata": {},
   "source": [
    "### tf.Variable.assign_sub()\n",
    "変数(Variable) から指定した値を減算する。\n",
    "\n",
    "<code>assign_sub(\n",
    "    delta [,\n",
    "    use_locking=False,\n",
    "    name=None,\n",
    "    read_value=True\n",
    "    ])</code>\n",
    "\n",
    "<pre>\n",
    "    delta: (Tensor オブジェクト) 変数から減算する値。\n",
    "    use_locking: (Boolean) 操作中にlockするか否か\n",
    "    name: 作成する操作名\n",
    "    read_value: (Boolean) Trueだと「変数の新しい値」が、Falseだと「操作」が返される\n",
    "</pre>"
   ]
  },
  {
   "cell_type": "code",
   "execution_count": 12,
   "id": "endangered-operations",
   "metadata": {},
   "outputs": [
    {
     "data": {
      "image/png": "[encoded data removed]",
      "text/plain": [
       "<Figure size 432x288 with 1 Axes>"
      ]
     },
     "metadata": {
      "needs_background": "light"
     },
     "output_type": "display_data"
    }
   ],
   "source": [
    "# 3-02-9 グラフの描画\n",
    "%matplotlib inline\n",
    "import matplotlib.pyplot as plt\n",
    "\n",
    "final_a = a.value()\n",
    "final_b = b.value()\n",
    "\n",
    "fig, ax = plt.subplots(1, 1, figsize=(6,4))\n",
    "ax.scatter(train_x_std, train_y_std)\n",
    "\n",
    "y_learned = final_a * train_x_std + final_b\n",
    "ax.plot(train_x_std, y_learned,c='r')\n",
    "\n",
    "ax.grid()\n",
    "plt.show()"
   ]
  },
  {
   "cell_type": "code",
   "execution_count": 14,
   "id": "spectacular-letter",
   "metadata": {},
   "outputs": [
    {
     "name": "stdout",
     "output_type": "stream",
     "text": [
      "予測に使用するxの値を入力してください >300\n",
      "1947.2206607488235\n"
     ]
    }
   ],
   "source": [
    "# 3-02-10 予測する\n",
    "input_x = input('予測に使用するxの値を入力してください >')\n",
    "x_mean = train_x.mean() # 平均\n",
    "std = train_x.std()     # 標準偏差\n",
    "x = (int(input_x) - x_mean) / std    # 入力値を標準化\n",
    "\n",
    "y = (final_a * x + final_b).numpy()\n",
    "y_mean = train_y.mean()    # yの平均値\n",
    "y_std = train_y.std()      # yの標準偏差\n",
    "\n",
    "y_org = y * y_std + y_mean\n",
    "print(y_org)"
   ]
  },
  {
   "cell_type": "code",
   "execution_count": null,
   "id": "reserved-ecuador",
   "metadata": {},
   "outputs": [],
   "source": []
  }
 ],
 "metadata": {
  "kernelspec": {
   "display_name": "Python 3",
   "language": "python",
   "name": "python3"
  },
  "language_info": {
   "codemirror_mode": {
    "name": "ipython",
    "version": 3
   },
   "file_extension": ".py",
   "mimetype": "text/x-python",
   "name": "python",
   "nbconvert_exporter": "python",
   "pygments_lexer": "ipython3",
   "version": "3.6.12"
  }
 },
 "nbformat": 4,
 "nbformat_minor": 5
}
