{
 "cells": [
  {
   "cell_type": "markdown",
   "id": "removable-mitchell",
   "metadata": {},
   "source": [
    "# 5.8 学習済みモデルの保存 p.331\n",
    "\n",
    "## TensorFlow スタイルでモデルの保存と復元をプログラミングする\n",
    "\n",
    "<ol>\n",
    "    <li> 学習に使用したモデルと同じモデルを生成する。</li>\n",
    "    <li> 生成したモデルに compile() メソッドでオプティマイザー、損失関数を設定してコンパイルを行う。</li>\n",
    "    <li> 保存した重みを読み込む。</li>\n",
    "</ol>\n",
    "\n",
    "<code>Model</code>クラスには重みを読み込むための <code>load_weights()</code> が用意されているので、これを使ってもよい。\n",
    "\n",
    "## 4章 4.3 で作成した Fashion-MNIST 学習結果を保存する。\n",
    "\n",
    "<a href=\"../html/tf2_book4_ch04_03.html\">4.3 章</a> で行ったモデルの学習を再び行う。        "
   ]
  },
  {
   "cell_type": "code",
   "execution_count": 1,
   "id": "confident-medium",
   "metadata": {},
   "outputs": [],
   "source": [
    "# データの読み込み\n",
    "from tensorflow import keras\n",
    "(x_train, t_train), (x_test, t_test) = keras.datasets.fashion_mnist.load_data() "
   ]
  },
  {
   "cell_type": "code",
   "execution_count": 2,
   "id": "toxic-ensemble",
   "metadata": {},
   "outputs": [
    {
     "name": "stdout",
     "output_type": "stream",
     "text": [
      "(60000, 28, 28)\n",
      "(60000,)\n",
      "(10000, 28, 28)\n",
      "(10000,)\n"
     ]
    }
   ],
   "source": [
    "print(x_train.shape)\n",
    "print(t_train.shape)\n",
    "print(x_test.shape)\n",
    "print(t_test.shape)"
   ]
  },
  {
   "cell_type": "code",
   "execution_count": 3,
   "id": "preliminary-entry",
   "metadata": {},
   "outputs": [
    {
     "name": "stdout",
     "output_type": "stream",
     "text": [
      "(60000, 784)\n",
      "(10000, 784)\n"
     ]
    }
   ],
   "source": [
    "# 4-03-6 (28, 28) の画像データを(784)のベクトルに変換してから、正規化する\n",
    "\n",
    "x_train_rs = x_train.reshape((-1, 28*28)).astype('float32') / 255\n",
    "x_test_rs = x_test.reshape((-1, 28*28)).astype('float32') / 255\n",
    "\n",
    "print(x_train_rs.shape)\n",
    "print(x_test_rs.shape)"
   ]
  },
  {
   "cell_type": "code",
   "execution_count": 9,
   "id": "every-mirror",
   "metadata": {},
   "outputs": [],
   "source": [
    "# 正解ラベルを one-hot vector 化する\n",
    "t_train_cat = keras.utils.to_categorical(t_train, 10)\n",
    "t_test_cat = keras.utils.to_categorical(t_test, 10)"
   ]
  },
  {
   "cell_type": "code",
   "execution_count": 4,
   "id": "bigger-brake",
   "metadata": {},
   "outputs": [],
   "source": [
    "# 4-03-9 モデルの定義\n",
    "from tensorflow import keras\n",
    "\n",
    "class MLP(keras.Model):\n",
    "\n",
    "    def __init__(self, hidden_dim, output_dim):\n",
    "        super().__init__()\n",
    "        self.l1 = keras.layers.Dense(hidden_dim, activation='relu')\n",
    "        self.l2 = keras.layers.Dense(output_dim, activation='softmax')\n",
    "        \n",
    "    def call(self, x):\n",
    "        h = self.l1(x)\n",
    "        y = self.l2(h)\n",
    "        return y"
   ]
  },
  {
   "cell_type": "code",
   "execution_count": 5,
   "id": "subtle-headline",
   "metadata": {},
   "outputs": [],
   "source": [
    "# 4-03-10 損失関数の定義\n",
    "# p.220\n",
    "\n",
    "cce = keras.losses.CategoricalCrossentropy()\n",
    "\n",
    "def loss(t, y):\n",
    "    return cce(t, y)"
   ]
  },
  {
   "cell_type": "code",
   "execution_count": 6,
   "id": "reported-whole",
   "metadata": {},
   "outputs": [],
   "source": [
    "# 4-03-11 Gradient Descentによるparameter のupdate処理\n",
    "import tensorflow as tf\n",
    "\n",
    "optimizer = keras.optimizers.SGD(learning_rate=0.1)\n",
    "\n",
    "train_loss = keras.metrics.Mean()\n",
    "train_acc = keras.metrics.CategoricalAccuracy()\n",
    "\n",
    "def train_step(x, t):\n",
    "    with tf.GradientTape() as tape:\n",
    "        outputs = model(x)\n",
    "        tmp_loss = loss(t, outputs)\n",
    "    grads = tape.gradient(tmp_loss, model.trainable_variables)\n",
    "    optimizer.apply_gradients(zip(grads, model.trainable_variables))\n",
    "    train_loss(tmp_loss) # 損失をMeanオブジェクトに記録する\n",
    "    train_acc(t, outputs) # 精度を記録する\n",
    "    return tmp_loss"
   ]
  },
  {
   "cell_type": "code",
   "execution_count": 12,
   "id": "arabic-surgery",
   "metadata": {},
   "outputs": [],
   "source": [
    "# 4-03-12 訓練データと検証データの用意\n",
    "from sklearn.model_selection import train_test_split\n",
    "\n",
    "x_tr, x_val, t_tr, t_val = train_test_split(x_train_rs, t_train_cat, test_size=0.2)"
   ]
  },
  {
   "cell_type": "code",
   "execution_count": 11,
   "id": "promotional-verification",
   "metadata": {},
   "outputs": [
    {
     "name": "stdout",
     "output_type": "stream",
     "text": [
      "epoch: 10 train_loss: 0.2922 train_acc: 0.8691\n",
      "epoch: 20 train_loss: 0.2426 train_acc: 0.8910\n",
      "epoch: 30 train_loss: 0.2117 train_acc: 0.9053\n",
      "epoch: 40 train_loss: 0.1883 train_acc: 0.9164\n",
      "epoch: 50 train_loss: 0.1692 train_acc: 0.9256\n",
      "epoch: 60 train_loss: 0.1531 train_acc: 0.9333\n",
      "epoch: 70 train_loss: 0.1395 train_acc: 0.9398\n",
      "epoch: 80 train_loss: 0.1278 train_acc: 0.9452\n",
      "epoch: 90 train_loss: 0.1178 train_acc: 0.9499\n",
      "epoch: 100 train_loss: 0.1092 train_acc: 0.9538\n",
      "Model: \"mlp_1\"\n",
      "_________________________________________________________________\n",
      "Layer (type)                 Output Shape              Param #   \n",
      "=================================================================\n",
      "dense_2 (Dense)              multiple                  200960    \n",
      "_________________________________________________________________\n",
      "dense_3 (Dense)              multiple                  2570      \n",
      "=================================================================\n",
      "Total params: 203,530\n",
      "Trainable params: 203,530\n",
      "Non-trainable params: 0\n",
      "_________________________________________________________________\n",
      "Wall time: 9min 46s\n"
     ]
    }
   ],
   "source": [
    "%%time\n",
    "# 4-03-13 学習の実行\n",
    "# p.223\n",
    "\n",
    "from sklearn.utils import shuffle\n",
    "\n",
    "epochs = 100\n",
    "batch_size = 64\n",
    "steps = x_train.shape[0] // batch_size\n",
    "\n",
    "model = MLP(256, 10)\n",
    "\n",
    "for epoch in range(epochs):\n",
    "    x_, t_ = shuffle(x_tr, t_tr, random_state=1)\n",
    "    \n",
    "    for step in range(steps):\n",
    "        start = step * batch_size\n",
    "        end = start + batch_size\n",
    "        tmp_loss = train_step(x_[start:end], t_[start:end])\n",
    "        \n",
    "    if (epoch + 1) % 10 == 0:\n",
    "        print(f'epoch: {epoch+1} train_loss: {train_loss.result():.4f} train_acc: {train_acc.result():.4f}')\n",
    "        \n",
    "model.summary()"
   ]
  },
  {
   "cell_type": "code",
   "execution_count": 13,
   "id": "sealed-clarity",
   "metadata": {},
   "outputs": [
    {
     "name": "stdout",
     "output_type": "stream",
     "text": [
      "validation_loss: 0.1642 validation_acc: 0.9501\n"
     ]
    }
   ],
   "source": [
    "# 4-03-14 検証データによるモデルの評価\n",
    "#p.225\n",
    "\n",
    "val_acc = tf.keras.metrics.CategoricalAccuracy()\n",
    "\n",
    "val_preds = model(x_val)\n",
    "val_acc.update_state(t_val, val_preds)\n",
    "\n",
    "validation_loss = loss(t_val, val_preds)\n",
    "\n",
    "print(f'validation_loss: {validation_loss:.4f} validation_acc: {val_acc.result():.4f}')"
   ]
  },
  {
   "cell_type": "code",
   "execution_count": 14,
   "id": "arctic-verse",
   "metadata": {},
   "outputs": [
    {
     "name": "stdout",
     "output_type": "stream",
     "text": [
      "test_loss: 0.5270 test_acc: 0.8829\n"
     ]
    }
   ],
   "source": [
    "# 4-03-15 テストデータによるモデルの評価\n",
    "test_acc = tf.keras.metrics.CategoricalAccuracy()\n",
    "\n",
    "test_preds = model(x_test_rs)\n",
    "test_acc.update_state(t_test_cat, test_preds)\n",
    "\n",
    "test_loss = loss(t_test_cat, test_preds)\n",
    "\n",
    "print(f'test_loss: {test_loss:.4f} test_acc: {test_acc.result():.4f}')"
   ]
  },
  {
   "cell_type": "markdown",
   "id": "welcome-senate",
   "metadata": {},
   "source": [
    "## Fashion-MNIST の学習結果を保存し復元する p.332"
   ]
  },
  {
   "cell_type": "code",
   "execution_count": 15,
   "id": "correct-hormone",
   "metadata": {},
   "outputs": [],
   "source": [
    "# 5-08-1 Fashion-MNIST の学習後の重みを保存する\n",
    "# p.332\n",
    "\n",
    "model.save_weights('model_weights_ch04_03', save_format='tf')"
   ]
  },
  {
   "cell_type": "code",
   "execution_count": 16,
   "id": "global-implementation",
   "metadata": {},
   "outputs": [
    {
     "data": {
      "text/plain": [
       "<tensorflow.python.training.tracking.util.CheckpointLoadStatus at 0x217e1cb5d68>"
      ]
     },
     "execution_count": 16,
     "metadata": {},
     "output_type": "execute_result"
    }
   ],
   "source": [
    "# 5-08-2 モデルを再生成してコンパイル、保存した重みを読み込む\n",
    "# p.332\n",
    "\n",
    "# 学習に使用したモデルと同じ構造のモデルを生成する\n",
    "loaded_model = MLP(256, 10)\n",
    "\n",
    "loaded_model.compile(\n",
    "    optimizer='adam',\n",
    "    loss='categorical_crossentropy',\n",
    "    metrics=['accuracy']\n",
    "    )\n",
    "\n",
    "loaded_model.load_weights('model_weights_ch04_03')"
   ]
  },
  {
   "cell_type": "code",
   "execution_count": 17,
   "id": "stuck-bunch",
   "metadata": {},
   "outputs": [
    {
     "name": "stdout",
     "output_type": "stream",
     "text": [
      "val_loss: 0.1642  val_acc: 0.9501\n"
     ]
    }
   ],
   "source": [
    "# 5-08-2 再現したモデルを検証データで確認する\n",
    "val_acc = tf.keras.metrics.CategoricalAccuracy()\n",
    "\n",
    "val_preds = loaded_model(x_val)\n",
    "val_acc.update_state(t_val, val_preds)\n",
    "val_loss = loss(t_val, val_preds)\n",
    "\n",
    "print(f'val_loss: {val_loss:.4f}  val_acc: {val_acc.result():.4f}')"
   ]
  },
  {
   "cell_type": "code",
   "execution_count": 19,
   "id": "curious-genre",
   "metadata": {},
   "outputs": [
    {
     "name": "stdout",
     "output_type": "stream",
     "text": [
      "val_loss: 0.5270  test_acc: 0.8829\n"
     ]
    }
   ],
   "source": [
    "# 5-08-3 再現したモデルをテストデータで確認する\n",
    "test_acc = tf.keras.metrics.CategoricalAccuracy()\n",
    "\n",
    "test_preds = loaded_model(x_test_rs)\n",
    "test_acc.update_state(t_test_cat, test_preds)\n",
    "test_loss = loss(t_test_cat, test_preds)\n",
    "\n",
    "print(f'val_loss: {test_loss:.4f}  test_acc: {test_acc.result():.4f}')"
   ]
  },
  {
   "cell_type": "code",
   "execution_count": null,
   "id": "naval-savannah",
   "metadata": {},
   "outputs": [],
   "source": []
  }
 ],
 "metadata": {
  "kernelspec": {
   "display_name": "Python 3",
   "language": "python",
   "name": "python3"
  },
  "language_info": {
   "codemirror_mode": {
    "name": "ipython",
    "version": 3
   },
   "file_extension": ".py",
   "mimetype": "text/x-python",
   "name": "python",
   "nbconvert_exporter": "python",
   "pygments_lexer": "ipython3",
   "version": "3.6.12"
  }
 },
 "nbformat": 4,
 "nbformat_minor": 5
}
