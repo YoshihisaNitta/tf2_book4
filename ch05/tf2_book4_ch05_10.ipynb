{
 "cells": [
  {
   "cell_type": "markdown",
   "id": "useful-color",
   "metadata": {},
   "source": [
    "# 5.10 転移学習とファインチューニング\n",
    "\n",
    "<font color=\"blue\">[自分へのメモ]</font>\n",
    "loss=\"sparse_categorical_crossentropy\" ではなく loss=\"categorical_crossentropy\" を使う。\n",
    "そのために正解ラベル(t_train, t_test)を one-hot vector 化(t_train_cat, t_test_cat)して使う。\n",
    "\n",
    "<font color=\"red\">[自分へのメモ]</font>\n",
    "loss=\"categorical_crossentropy\" でgenerator を使って学習するとaccがまったく向上しない。generatorを使わずにやってみてもaccが全く向上しない。<font color=\"red\"><b>要調査</b></font>。\n",
    "\n",
    "<font color=\"red\">[自分へのメモ]</font> (2020/03/22 追記)\n",
    "3月の初旬にMac上で jupyter notebook を動作させた時は、以下の学習 model.fit() で全く精度が上がらなかった。\n",
    "本日 Windows PC (GPU付き) 上で juypter notebook を動作させたときは、普通に学習できた。何故？\n",
    "\n",
    "## tensorflow.keras.applications に収録されている学習済みのモデル\n",
    "\n",
    "Xception, VGG16, VGG19, ResNet50, InceptionV3, InceptionResNetV2, MobileNet, DenseNet121, DenseNet169, DenseNet201\n",
    "\n",
    "## VGG16 モデルで CIFAR-10 を分類する\n",
    "\n",
    "VGG16は合計が16層の入力層とConvolution層から構成されている。\n",
    "入力の次元は (None, 224, 224, 3) である。\n",
    "第5ブロック(最後は MaxPooling2D 層)までを利用し、Flatten, Dense, Dense(出力 None,1) を追加して利用することにする。\n",
    "\n",
    "## ファインチューニングをプログラミングする\n",
    "\n"
   ]
  },
  {
   "cell_type": "code",
   "execution_count": 1,
   "id": "cutting-greece",
   "metadata": {},
   "outputs": [
    {
     "name": "stdout",
     "output_type": "stream",
     "text": [
      "(50000, 32, 32, 3)\n",
      "(50000, 1)\n"
     ]
    }
   ],
   "source": [
    "# 5-10-1 CIFAR-10 を読み込む\n",
    "# p.360\n",
    "\n",
    "import tensorflow as tf\n",
    "from tensorflow import keras\n",
    "\n",
    "(x_train, t_train), (x_test, t_test) = keras.datasets.cifar10.load_data()\n",
    "\n",
    "print(x_train.shape)\n",
    "print(t_train.shape)"
   ]
  },
  {
   "cell_type": "code",
   "execution_count": 2,
   "id": "lasting-lodging",
   "metadata": {},
   "outputs": [
    {
     "name": "stdout",
     "output_type": "stream",
     "text": [
      "(50000, 64, 64, 3)\n",
      "(10000, 64, 64, 3)\n"
     ]
    }
   ],
   "source": [
    "# 5-10-1 画像を 64x64 にリサイズする\n",
    "# p.360\n",
    "\n",
    "x_train_rs = tf.image.resize(x_train,[64,64])\n",
    "x_test_rs = tf.image.resize(x_test,[64,64])\n",
    "\n",
    "print(x_train_rs.shape)\n",
    "print(x_test_rs.shape)"
   ]
  },
  {
   "cell_type": "markdown",
   "id": "million-cornwall",
   "metadata": {},
   "source": [
    "<font color=\"blue\">[自分へのメモ]</font>\n",
    "tf.keras.applications に VGG16 と VGG19 も用意されている。\n",
    "<a href=\"https://keras.io/api/applications/vgg/\">デフォルトの入力サイズは 224x244で、フォーマットは channels_first (channels, height, width) でも channels_last (height, width, channels) のどちらでもよい</a>。\n",
    "tf.karas.applications は 入力の前処理を前提としており、vgg16 モデルの場合は <code>tf.keras.applications.vgg16.preprocess_input</code>を呼ぶ必要があるとのこと。\n",
    "\n",
    "以下ののコードでは前処理を行っていないが、本来は次のように入力データを前処理したものを与えた方が、よい結果を得られることが多いようだ。\n",
    "\n",
    "<code>\n",
    "    x_train_prep = tf.keras.applications.vgg16.preprocess_input(x_train_rs)\n",
    "</code>"
   ]
  },
  {
   "cell_type": "code",
   "execution_count": 3,
   "id": "artificial-address",
   "metadata": {},
   "outputs": [],
   "source": [
    "# 5-10-2 VGG16 をロードして、特定の層のみを学習可能に変更する\n",
    "# p.361\n",
    "# [自分へのメモ] 関数を呼び出して、モデルを新しく作成して返すように変更した。\n",
    "\n",
    " def getVGG16(input_dims,n):\n",
    "    model = tf.keras.applications.VGG16(\n",
    "        include_top=False,               ### 全結合層は含まない\n",
    "        weights='imagenet',               ### ImageNet で学習した重みを利用する\n",
    "        input_shape=input_dims           ### 入力データの形状\n",
    "        )\n",
    "    for layer in model.layers[:n]:   ### 0-(n-1)層の重みを固定する\n",
    "        layer.trainable = False\n",
    "    for layer in model.layers[n:]:   ### n層以降は重みを学習する\n",
    "        layer.trainable = True\n",
    "    return model"
   ]
  },
  {
   "cell_type": "code",
   "execution_count": 4,
   "id": "directed-ethernet",
   "metadata": {},
   "outputs": [],
   "source": [
    "# 5-10-2 VGG16を用いてモデルを生成する\n",
    "# p.361\n",
    "from tensorflow.keras import models, layers\n",
    "\n",
    "def getModel(org_model, output_dim):\n",
    "    model = models.Sequential()\n",
    "    model.add(org_model)\n",
    "    model.add(layers.GlobalMaxPooling2D())\n",
    "    model.add(layers.Dense(512, activation='relu'))\n",
    "    model.add(layers.Dropout(0.5))\n",
    "    model.add(layers.Dense(output_dim, activation='softmax'))\n",
    "    return model"
   ]
  },
  {
   "cell_type": "code",
   "execution_count": 5,
   "id": "sunset-switch",
   "metadata": {},
   "outputs": [],
   "source": [
    "t_train_cat = keras.utils.to_categorical(t_train, 10)\n",
    "t_test_cat = keras.utils.to_categorical(t_test, 10)"
   ]
  },
  {
   "cell_type": "code",
   "execution_count": 6,
   "id": "parental-times",
   "metadata": {},
   "outputs": [
    {
     "name": "stdout",
     "output_type": "stream",
     "text": [
      "Model: \"sequential\"\n",
      "_________________________________________________________________\n",
      "Layer (type)                 Output Shape              Param #   \n",
      "=================================================================\n",
      "vgg16 (Functional)           (None, 2, 2, 512)         14714688  \n",
      "_________________________________________________________________\n",
      "global_max_pooling2d (Global (None, 512)               0         \n",
      "_________________________________________________________________\n",
      "dense (Dense)                (None, 512)               262656    \n",
      "_________________________________________________________________\n",
      "dropout (Dropout)            (None, 512)               0         \n",
      "_________________________________________________________________\n",
      "dense_1 (Dense)              (None, 10)                5130      \n",
      "=================================================================\n",
      "Total params: 14,982,474\n",
      "Trainable params: 7,347,210\n",
      "Non-trainable params: 7,635,264\n",
      "_________________________________________________________________\n"
     ]
    }
   ],
   "source": [
    "model = getModel(getVGG16(x_train_rs[0].shape, 15), 10)\n",
    "\n",
    "model.compile(\n",
    "    loss='categorical_crossentropy',\n",
    "    optimizer=keras.optimizers.Adam(lr=0.001),\n",
    "    metrics=['accuracy']\n",
    "    )\n",
    "\n",
    "model.summary()"
   ]
  },
  {
   "cell_type": "code",
   "execution_count": 7,
   "id": "bearing-breed",
   "metadata": {},
   "outputs": [
    {
     "name": "stdout",
     "output_type": "stream",
     "text": [
      "Epoch 1/30\n",
      "782/782 [==============================] - 24s 30ms/step - loss: 0.9773 - accuracy: 0.6588 - val_loss: 0.6614 - val_accuracy: 0.7769\n",
      "Epoch 2/30\n",
      "782/782 [==============================] - 22s 29ms/step - loss: 0.5826 - accuracy: 0.8043 - val_loss: 0.5839 - val_accuracy: 0.8080\n",
      "Epoch 3/30\n",
      "782/782 [==============================] - 23s 29ms/step - loss: 0.4793 - accuracy: 0.8390 - val_loss: 0.5874 - val_accuracy: 0.8089\n",
      "Epoch 4/30\n",
      "782/782 [==============================] - 24s 31ms/step - loss: 0.3864 - accuracy: 0.8693 - val_loss: 0.6082 - val_accuracy: 0.8119\n",
      "Epoch 5/30\n",
      "782/782 [==============================] - 23s 30ms/step - loss: 0.3253 - accuracy: 0.8908 - val_loss: 0.6112 - val_accuracy: 0.8122\n",
      "Epoch 6/30\n",
      "782/782 [==============================] - 23s 29ms/step - loss: 0.2733 - accuracy: 0.9071 - val_loss: 0.6174 - val_accuracy: 0.8177\n",
      "Epoch 7/30\n",
      "782/782 [==============================] - 23s 29ms/step - loss: 0.2346 - accuracy: 0.9214 - val_loss: 0.7161 - val_accuracy: 0.8100\n",
      "Epoch 8/30\n",
      "782/782 [==============================] - 24s 30ms/step - loss: 0.2001 - accuracy: 0.9323 - val_loss: 0.7835 - val_accuracy: 0.8125\n",
      "Epoch 9/30\n",
      "782/782 [==============================] - 23s 30ms/step - loss: 0.1797 - accuracy: 0.9411 - val_loss: 0.7686 - val_accuracy: 0.8101\n",
      "Epoch 10/30\n",
      "782/782 [==============================] - 23s 29ms/step - loss: 0.1512 - accuracy: 0.9503 - val_loss: 0.9267 - val_accuracy: 0.8143\n",
      "Epoch 11/30\n",
      "782/782 [==============================] - 23s 30ms/step - loss: 0.1393 - accuracy: 0.9551 - val_loss: 1.0553 - val_accuracy: 0.8093\n",
      "Epoch 12/30\n",
      "782/782 [==============================] - 23s 29ms/step - loss: 0.1293 - accuracy: 0.9586 - val_loss: 1.0059 - val_accuracy: 0.8138\n",
      "Epoch 13/30\n",
      "782/782 [==============================] - 23s 30ms/step - loss: 0.1111 - accuracy: 0.9645 - val_loss: 1.2033 - val_accuracy: 0.8127\n",
      "Epoch 14/30\n",
      "782/782 [==============================] - 23s 29ms/step - loss: 0.1030 - accuracy: 0.9675 - val_loss: 1.0567 - val_accuracy: 0.8030\n",
      "Epoch 15/30\n",
      "782/782 [==============================] - 23s 30ms/step - loss: 0.1120 - accuracy: 0.9647 - val_loss: 1.1654 - val_accuracy: 0.8149\n",
      "Epoch 16/30\n",
      "782/782 [==============================] - 23s 29ms/step - loss: 0.0951 - accuracy: 0.9716 - val_loss: 1.2523 - val_accuracy: 0.8005\n",
      "Epoch 17/30\n",
      "782/782 [==============================] - 23s 29ms/step - loss: 0.0991 - accuracy: 0.9700 - val_loss: 1.4182 - val_accuracy: 0.8073\n",
      "Epoch 18/30\n",
      "782/782 [==============================] - 23s 29ms/step - loss: 0.0986 - accuracy: 0.9701 - val_loss: 1.3066 - val_accuracy: 0.8139\n",
      "Epoch 19/30\n",
      "782/782 [==============================] - 23s 29ms/step - loss: 0.0814 - accuracy: 0.9752 - val_loss: 1.4451 - val_accuracy: 0.8141\n",
      "Epoch 20/30\n",
      "782/782 [==============================] - 23s 29ms/step - loss: 0.0782 - accuracy: 0.9773 - val_loss: 1.4140 - val_accuracy: 0.8167\n",
      "Epoch 21/30\n",
      "782/782 [==============================] - 23s 29ms/step - loss: 0.0929 - accuracy: 0.9733 - val_loss: 1.5017 - val_accuracy: 0.8117\n",
      "Epoch 22/30\n",
      "782/782 [==============================] - 24s 31ms/step - loss: 0.0843 - accuracy: 0.9756 - val_loss: 1.3038 - val_accuracy: 0.8102\n",
      "Epoch 23/30\n",
      "782/782 [==============================] - 23s 30ms/step - loss: 0.0762 - accuracy: 0.9787 - val_loss: 1.5474 - val_accuracy: 0.8122\n",
      "Epoch 24/30\n",
      "782/782 [==============================] - 23s 30ms/step - loss: 0.0681 - accuracy: 0.9809 - val_loss: 1.4585 - val_accuracy: 0.8179\n",
      "Epoch 25/30\n",
      "782/782 [==============================] - 23s 29ms/step - loss: 0.0704 - accuracy: 0.9798 - val_loss: 1.6154 - val_accuracy: 0.8153\n",
      "Epoch 26/30\n",
      "782/782 [==============================] - 23s 29ms/step - loss: 0.0677 - accuracy: 0.9810 - val_loss: 1.6121 - val_accuracy: 0.8173\n",
      "Epoch 27/30\n",
      "782/782 [==============================] - 23s 30ms/step - loss: 0.0629 - accuracy: 0.9825 - val_loss: 1.7469 - val_accuracy: 0.8206\n",
      "Epoch 28/30\n",
      "782/782 [==============================] - 23s 29ms/step - loss: 0.0919 - accuracy: 0.9757 - val_loss: 1.8922 - val_accuracy: 0.8126\n",
      "Epoch 29/30\n",
      "782/782 [==============================] - 24s 30ms/step - loss: 0.0785 - accuracy: 0.9798 - val_loss: 1.6850 - val_accuracy: 0.8129\n",
      "Epoch 30/30\n",
      "782/782 [==============================] - 23s 29ms/step - loss: 0.0715 - accuracy: 0.9818 - val_loss: 1.7011 - val_accuracy: 0.7926\n"
     ]
    }
   ],
   "source": [
    "# 普通に学習してみる\n",
    "\n",
    "x_tr = x_train_rs / 255\n",
    "x_te = x_test_rs / 255\n",
    "\n",
    "history = model.fit(\n",
    "    x_tr,\n",
    "    t_train_cat,\n",
    "    batch_size=64,\n",
    "    epochs=30,\n",
    "    validation_data=(x_te, t_test_cat)\n",
    "    )"
   ]
  },
  {
   "cell_type": "code",
   "execution_count": 8,
   "id": "accompanied-allowance",
   "metadata": {},
   "outputs": [
    {
     "name": "stdout",
     "output_type": "stream",
     "text": [
      "dict_keys(['loss', 'accuracy', 'val_loss', 'val_accuracy'])\n"
     ]
    }
   ],
   "source": [
    "print(history.history.keys())"
   ]
  },
  {
   "cell_type": "code",
   "execution_count": 9,
   "id": "coral-eugene",
   "metadata": {},
   "outputs": [],
   "source": [
    "# 5-02-23 損失と精度の推移をグラフにする\n",
    "# p.317\n",
    "# [自分へのメモ] 独自のコードで書き直した\n",
    "\n",
    "%matplotlib inline\n",
    "import matplotlib.pyplot as plt\n",
    "import numpy as np\n",
    "\n",
    "def plot_history(history):\n",
    "    fig, ax = plt.subplots(1, 2, figsize=(6*2, 4))\n",
    "    \n",
    "    ax[0].plot(history['accuracy'], \"-\", label=\"accuracy\",c=\"blue\")\n",
    "    ax[0].plot(history['val_accuracy'], \"-\", label=\"val_accuracy\",c=\"green\")\n",
    "    ax[0].set_title('model accuracy')\n",
    "    ax[0].set_xlabel('epoch')\n",
    "    ax[0].set_ylabel('accuracy')\n",
    "    ax[0].legend(loc=\"lower right\")\n",
    "    \n",
    "    ax[1].plot(history['loss'], \"-\", label=\"loss\", c=\"blue\")\n",
    "    ax[1].plot(history['val_loss'], \"-\", label=\"val_loss\", c=\"green\")\n",
    "    ax[1].set_title('model loss')\n",
    "    ax[1].set_xlabel('epoch')\n",
    "    ax[1].set_ylabel('loss')\n",
    "    ax[1].legend(loc=\"upper left\")\n",
    "\n",
    "    \n",
    "    plt.subplots_adjust(wspace=0.1)\n",
    "    plt.show()"
   ]
  },
  {
   "cell_type": "code",
   "execution_count": 10,
   "id": "hindu-attack",
   "metadata": {},
   "outputs": [
    {
     "data": {
      "image/png": "[encoded data removed]",
      "text/plain": [
       "<Figure size 864x288 with 2 Axes>"
      ]
     },
     "metadata": {
      "needs_background": "light"
     },
     "output_type": "display_data"
    }
   ],
   "source": [
    "plot_history(history.history)"
   ]
  },
  {
   "cell_type": "markdown",
   "id": "ranking-bleeding",
   "metadata": {},
   "source": [
    "## Data Augmentation を使う"
   ]
  },
  {
   "cell_type": "code",
   "execution_count": 11,
   "id": "partial-tourist",
   "metadata": {},
   "outputs": [],
   "source": [
    "# 5-10-3 DataAugmentation\n",
    "# p.366\n",
    "\n",
    "from tensorflow.keras.preprocessing.image import ImageDataGenerator\n",
    "\n",
    "batch_size = 64\n",
    "\n",
    "datagen = ImageDataGenerator(\n",
    "    rescale=1.0/255.0,\n",
    "    validation_split=0.2,\n",
    "    rotation_range=15,\n",
    "    width_shift_range=0.1,\n",
    "    height_shift_range=0.1,\n",
    "    zoom_range=0.2\n",
    "    )\n",
    "\n",
    "training_generator = datagen.flow(\n",
    "    x_train_rs,\n",
    "    t_train_cat,\n",
    "    batch_size=batch_size,\n",
    "    subset='training'\n",
    "    )\n",
    "\n",
    "validation_generator = datagen.flow(\n",
    "    x_train_rs,\n",
    "    t_train_cat,\n",
    "    batch_size=batch_size,\n",
    "    subset='validation'\n",
    "    )"
   ]
  },
  {
   "cell_type": "code",
   "execution_count": 12,
   "id": "moral-joshua",
   "metadata": {},
   "outputs": [],
   "source": [
    "# 5-10-3 学習率を減衰する\n",
    "# p.367\n",
    "import math\n",
    "\n",
    "def step_decay(epoch):\n",
    "    initial_lrate = 0.001   # 学習率の初期値 \n",
    "    drop = 0.5              # 減衰率\n",
    "    epochs_drop = 10.0      # 10エポック毎に減衰する\n",
    "    lrate = initial_lrate * math.pow(drop, math.floor((epoch)/epochs_drop))\n",
    "    return lrate\n",
    "\n",
    "# 学習率のコールバック\n",
    "lrate = keras.callbacks.LearningRateScheduler(step_decay)"
   ]
  },
  {
   "cell_type": "code",
   "execution_count": 13,
   "id": "english-coast",
   "metadata": {
    "scrolled": true
   },
   "outputs": [
    {
     "name": "stdout",
     "output_type": "stream",
     "text": [
      "Epoch 1/50\n",
      "625/625 [==============================] - 43s 69ms/step - loss: 1.3563 - accuracy: 0.5019 - val_loss: 0.8512 - val_accuracy: 0.7079\n",
      "Epoch 2/50\n",
      "625/625 [==============================] - 41s 65ms/step - loss: 0.8300 - accuracy: 0.7223 - val_loss: 0.8018 - val_accuracy: 0.7297\n",
      "Epoch 3/50\n",
      "625/625 [==============================] - 42s 67ms/step - loss: 0.7269 - accuracy: 0.7554 - val_loss: 0.7351 - val_accuracy: 0.7500\n",
      "Epoch 4/50\n",
      "625/625 [==============================] - 42s 67ms/step - loss: 0.6673 - accuracy: 0.7738 - val_loss: 0.7447 - val_accuracy: 0.7518\n",
      "Epoch 5/50\n",
      "625/625 [==============================] - 41s 66ms/step - loss: 0.6258 - accuracy: 0.7893 - val_loss: 0.6798 - val_accuracy: 0.7724\n",
      "Epoch 6/50\n",
      "625/625 [==============================] - 41s 66ms/step - loss: 0.5957 - accuracy: 0.7975 - val_loss: 0.7012 - val_accuracy: 0.7672\n",
      "Epoch 7/50\n",
      "625/625 [==============================] - 41s 65ms/step - loss: 0.5701 - accuracy: 0.8095 - val_loss: 0.6774 - val_accuracy: 0.7783\n",
      "Epoch 8/50\n",
      "625/625 [==============================] - 41s 65ms/step - loss: 0.5535 - accuracy: 0.8129 - val_loss: 0.6492 - val_accuracy: 0.7834\n",
      "Epoch 9/50\n",
      "625/625 [==============================] - 42s 67ms/step - loss: 0.5251 - accuracy: 0.8223 - val_loss: 0.6849 - val_accuracy: 0.7801\n",
      "Epoch 10/50\n",
      "625/625 [==============================] - 41s 65ms/step - loss: 0.5118 - accuracy: 0.8274 - val_loss: 0.6588 - val_accuracy: 0.7855\n",
      "Epoch 11/50\n",
      "625/625 [==============================] - 41s 66ms/step - loss: 0.4286 - accuracy: 0.8522 - val_loss: 0.6164 - val_accuracy: 0.8039\n",
      "Epoch 12/50\n",
      "625/625 [==============================] - 43s 69ms/step - loss: 0.4173 - accuracy: 0.8590 - val_loss: 0.6449 - val_accuracy: 0.7964\n",
      "Epoch 13/50\n",
      "625/625 [==============================] - 42s 67ms/step - loss: 0.3952 - accuracy: 0.8640 - val_loss: 0.6260 - val_accuracy: 0.7963\n",
      "Epoch 14/50\n",
      "625/625 [==============================] - 41s 66ms/step - loss: 0.3854 - accuracy: 0.8679 - val_loss: 0.6342 - val_accuracy: 0.7967\n",
      "Epoch 15/50\n",
      "625/625 [==============================] - 41s 65ms/step - loss: 0.3660 - accuracy: 0.8737 - val_loss: 0.6349 - val_accuracy: 0.8050\n",
      "Epoch 16/50\n",
      "625/625 [==============================] - 40s 65ms/step - loss: 0.3575 - accuracy: 0.8789 - val_loss: 0.6452 - val_accuracy: 0.7951\n",
      "Epoch 17/50\n",
      "625/625 [==============================] - 40s 65ms/step - loss: 0.3503 - accuracy: 0.8793 - val_loss: 0.6763 - val_accuracy: 0.7953\n",
      "Epoch 18/50\n",
      "625/625 [==============================] - 40s 65ms/step - loss: 0.3423 - accuracy: 0.8816 - val_loss: 0.6350 - val_accuracy: 0.8010\n",
      "Epoch 19/50\n",
      "625/625 [==============================] - 40s 65ms/step - loss: 0.3364 - accuracy: 0.8841 - val_loss: 0.7000 - val_accuracy: 0.7988\n",
      "Epoch 20/50\n",
      "625/625 [==============================] - 42s 68ms/step - loss: 0.3220 - accuracy: 0.8889 - val_loss: 0.6304 - val_accuracy: 0.8069\n",
      "Epoch 21/50\n",
      "625/625 [==============================] - 42s 68ms/step - loss: 0.2810 - accuracy: 0.9040 - val_loss: 0.6435 - val_accuracy: 0.8137\n",
      "Epoch 22/50\n",
      "625/625 [==============================] - 41s 65ms/step - loss: 0.2695 - accuracy: 0.9067 - val_loss: 0.6663 - val_accuracy: 0.8066\n",
      "Epoch 23/50\n",
      "625/625 [==============================] - 41s 66ms/step - loss: 0.2603 - accuracy: 0.9106 - val_loss: 0.6824 - val_accuracy: 0.8150\n",
      "Epoch 24/50\n",
      "625/625 [==============================] - 41s 66ms/step - loss: 0.2579 - accuracy: 0.9102 - val_loss: 0.6715 - val_accuracy: 0.8072\n",
      "Epoch 25/50\n",
      "625/625 [==============================] - 41s 66ms/step - loss: 0.2520 - accuracy: 0.9129 - val_loss: 0.6919 - val_accuracy: 0.8075\n",
      "Epoch 26/50\n",
      "625/625 [==============================] - 41s 66ms/step - loss: 0.2413 - accuracy: 0.9154 - val_loss: 0.7060 - val_accuracy: 0.8096\n",
      "Epoch 27/50\n",
      "625/625 [==============================] - 42s 67ms/step - loss: 0.2394 - accuracy: 0.9166 - val_loss: 0.6676 - val_accuracy: 0.8156\n",
      "Epoch 28/50\n",
      "625/625 [==============================] - 41s 66ms/step - loss: 0.2286 - accuracy: 0.9201 - val_loss: 0.7391 - val_accuracy: 0.8078\n",
      "Epoch 29/50\n",
      "625/625 [==============================] - 41s 66ms/step - loss: 0.2283 - accuracy: 0.9225 - val_loss: 0.6907 - val_accuracy: 0.8085\n",
      "Epoch 30/50\n",
      "625/625 [==============================] - 44s 70ms/step - loss: 0.2218 - accuracy: 0.9229 - val_loss: 0.7194 - val_accuracy: 0.8088\n",
      "Epoch 31/50\n",
      "625/625 [==============================] - 45s 72ms/step - loss: 0.1971 - accuracy: 0.9325 - val_loss: 0.7039 - val_accuracy: 0.8168\n",
      "Epoch 32/50\n",
      "625/625 [==============================] - 42s 68ms/step - loss: 0.1978 - accuracy: 0.9323 - val_loss: 0.7170 - val_accuracy: 0.8101\n",
      "Epoch 33/50\n",
      "625/625 [==============================] - 41s 66ms/step - loss: 0.1892 - accuracy: 0.9355 - val_loss: 0.7118 - val_accuracy: 0.8137\n",
      "Epoch 34/50\n",
      "625/625 [==============================] - 43s 68ms/step - loss: 0.1817 - accuracy: 0.9372 - val_loss: 0.7151 - val_accuracy: 0.8115\n",
      "Epoch 35/50\n",
      "625/625 [==============================] - 42s 67ms/step - loss: 0.1784 - accuracy: 0.9388 - val_loss: 0.7729 - val_accuracy: 0.8075\n",
      "Epoch 36/50\n",
      "625/625 [==============================] - 43s 69ms/step - loss: 0.1835 - accuracy: 0.9379 - val_loss: 0.7357 - val_accuracy: 0.8082\n",
      "Epoch 37/50\n",
      "625/625 [==============================] - 42s 67ms/step - loss: 0.1752 - accuracy: 0.9403 - val_loss: 0.7374 - val_accuracy: 0.8162\n",
      "Epoch 38/50\n",
      "625/625 [==============================] - 42s 67ms/step - loss: 0.1785 - accuracy: 0.9383 - val_loss: 0.7450 - val_accuracy: 0.8078\n",
      "Epoch 39/50\n",
      "625/625 [==============================] - 43s 69ms/step - loss: 0.1700 - accuracy: 0.9421 - val_loss: 0.7419 - val_accuracy: 0.8115\n",
      "Epoch 40/50\n",
      "625/625 [==============================] - 44s 71ms/step - loss: 0.1641 - accuracy: 0.9439 - val_loss: 0.7539 - val_accuracy: 0.8126\n",
      "Epoch 41/50\n",
      "625/625 [==============================] - 42s 67ms/step - loss: 0.1615 - accuracy: 0.9439 - val_loss: 0.7556 - val_accuracy: 0.8086\n",
      "Epoch 42/50\n",
      "625/625 [==============================] - 42s 67ms/step - loss: 0.1540 - accuracy: 0.9477 - val_loss: 0.7463 - val_accuracy: 0.8146\n",
      "Epoch 43/50\n",
      "625/625 [==============================] - 42s 67ms/step - loss: 0.1558 - accuracy: 0.9475 - val_loss: 0.7620 - val_accuracy: 0.8157\n",
      "Epoch 44/50\n",
      "625/625 [==============================] - 41s 66ms/step - loss: 0.1520 - accuracy: 0.9487 - val_loss: 0.7781 - val_accuracy: 0.8161\n",
      "Epoch 45/50\n",
      "625/625 [==============================] - 41s 66ms/step - loss: 0.1473 - accuracy: 0.9494 - val_loss: 0.7726 - val_accuracy: 0.8133\n",
      "Epoch 46/50\n",
      "625/625 [==============================] - 41s 65ms/step - loss: 0.1493 - accuracy: 0.9487 - val_loss: 0.7679 - val_accuracy: 0.8132\n",
      "Epoch 47/50\n",
      "625/625 [==============================] - 42s 66ms/step - loss: 0.1390 - accuracy: 0.9513 - val_loss: 0.7967 - val_accuracy: 0.8100\n",
      "Epoch 48/50\n",
      "625/625 [==============================] - 44s 70ms/step - loss: 0.1417 - accuracy: 0.9516 - val_loss: 0.7912 - val_accuracy: 0.8072\n",
      "Epoch 49/50\n",
      "625/625 [==============================] - 42s 68ms/step - loss: 0.1388 - accuracy: 0.9510 - val_loss: 0.7720 - val_accuracy: 0.8159\n",
      "Epoch 50/50\n",
      "625/625 [==============================] - 41s 65ms/step - loss: 0.1413 - accuracy: 0.9523 - val_loss: 0.7967 - val_accuracy: 0.8065\n"
     ]
    }
   ],
   "source": [
    "# 5-10-3 学習する\n",
    "# p.367\n",
    "\n",
    "model2 = getModel(getVGG16(x_train_rs[0].shape, 15), 10)\n",
    "\n",
    "model2.compile(\n",
    "    loss='categorical_crossentropy',\n",
    "    optimizer=keras.optimizers.Adam(lr=0.001),\n",
    "    metrics=['accuracy']\n",
    "    )\n",
    "\n",
    "epochs = 50\n",
    "\n",
    "history2 = model2.fit(\n",
    "    training_generator,\n",
    "    epochs=epochs,\n",
    "    verbose=1,\n",
    "    validation_data=validation_generator,\n",
    "    callbacks=[lrate]\n",
    "    )"
   ]
  },
  {
   "cell_type": "code",
   "execution_count": 14,
   "id": "awful-washer",
   "metadata": {},
   "outputs": [
    {
     "data": {
      "image/png": "[encoded data removed]",
      "text/plain": [
       "<Figure size 864x288 with 2 Axes>"
      ]
     },
     "metadata": {
      "needs_background": "light"
     },
     "output_type": "display_data"
    }
   ],
   "source": [
    "plot_history(history2.history)"
   ]
  },
  {
   "cell_type": "code",
   "execution_count": 18,
   "id": "seasonal-hindu",
   "metadata": {},
   "outputs": [
    {
     "name": "stdout",
     "output_type": "stream",
     "text": [
      "313/313 [==============================] - 4s 12ms/step - loss: 0.6934 - accuracy: 0.8394\n",
      "loss: 0.6934  acc: 0.8394\n"
     ]
    }
   ],
   "source": [
    "loss, acc = model2.evaluate(x_te, t_test_cat)\n",
    "print(f'loss: {loss:.4f}  acc: {acc:.4f}')"
   ]
  },
  {
   "cell_type": "code",
   "execution_count": null,
   "id": "motivated-masters",
   "metadata": {},
   "outputs": [],
   "source": []
  }
 ],
 "metadata": {
  "kernelspec": {
   "display_name": "Python 3",
   "language": "python",
   "name": "python3"
  },
  "language_info": {
   "codemirror_mode": {
    "name": "ipython",
    "version": 3
   },
   "file_extension": ".py",
   "mimetype": "text/x-python",
   "name": "python",
   "nbconvert_exporter": "python",
   "pygments_lexer": "ipython3",
   "version": "3.6.12"
  }
 },
 "nbformat": 4,
 "nbformat_minor": 5
}
