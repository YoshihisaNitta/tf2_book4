{
 "cells": [
  {
   "cell_type": "markdown",
   "id": "cultural-yahoo",
   "metadata": {},
   "source": [
    "# 5.9 (b) p.346\n",
    "## Keras スタイルのコーディング\n",
    "\n",
    "<a href=\"../html/tf2_book4_ch05_02c.html\">5.3章 (c)</a> の例を題材とする。\n",
    "\n",
    "### 5.2 (b)のコードを転載する\n",
    "<font color=\"red\">[自分へのメモ]</font> t_train, t_test は one hot vector 化して、loss='categorical_crossentropy' を使うように変更することに注意。"
   ]
  },
  {
   "cell_type": "code",
   "execution_count": 1,
   "id": "angry-champion",
   "metadata": {},
   "outputs": [
    {
     "name": "stdout",
     "output_type": "stream",
     "text": [
      "(50000, 32, 32, 3) (50000, 1)\n",
      "(10000, 32, 32, 3) (10000, 1)\n"
     ]
    }
   ],
   "source": [
    "# 5-02-20 CIFAR-10 データセットの読み込み\n",
    "# p.312\n",
    "\n",
    "from tensorflow.keras import datasets\n",
    "\n",
    "(x_train, t_train), (x_test, t_test) = datasets.cifar10.load_data()\n",
    "\n",
    "print(x_train.shape, t_train.shape)\n",
    "print(x_test.shape, t_test.shape)"
   ]
  },
  {
   "cell_type": "code",
   "execution_count": 4,
   "id": "greek-injection",
   "metadata": {},
   "outputs": [],
   "source": [
    "# 5-02-21 CNN モデルの構築\n",
    "# p.312\n",
    "# [自分へのメモ] 関数呼び出しでモデルを作るように変更した。これで複数のモデルを作成して実験できる。\n",
    "\n",
    "import tensorflow as tf\n",
    "from tensorflow.keras import models, layers, optimizers, regularizers\n",
    "\n",
    "def CNN(input_dim, output_dim):\n",
    "    weight_decay = 1e-4\n",
    "    model = tf.keras.models.Sequential()\n",
    "    model.add(layers.Conv2D(filters=32,kernel_size=(3,3),input_shape=input_dim,padding='same',kernel_regularizer=regularizers.l2(weight_decay),activation='relu'))\n",
    "    model.add(layers.MaxPooling2D(pool_size=(2,2)))\n",
    "    model.add(layers.Conv2D(filters=128,kernel_size=(3,3),padding='same',kernel_regularizer=regularizers.l2(weight_decay),activation='relu'))\n",
    "    model.add(layers.MaxPooling2D(pool_size=(2,2)))\n",
    "    model.add(layers.Conv2D(filters=256,kernel_size=(3,3),padding='same',kernel_regularizer=regularizers.l2(weight_decay),activation='relu'))\n",
    "    model.add(layers.MaxPooling2D(pool_size=(2,2)))\n",
    "    model.add(layers.Flatten())\n",
    "    model.add(layers.Dropout(0.4))\n",
    "    model.add(layers.Dense(512,activation='relu'))\n",
    "    model.add(layers.Dense(output_dim,activation='softmax'))\n",
    "    return model"
   ]
  },
  {
   "cell_type": "code",
   "execution_count": 7,
   "id": "serial-clinton",
   "metadata": {},
   "outputs": [],
   "source": [
    "learning_rate = 0.1\n",
    "\n",
    "model2 = CNN(x_train.shape[1:], 10)\n",
    "model2.compile(\n",
    "    loss='categorical_crossentropy',\n",
    "    optimizer=optimizers.SGD(lr=learning_rate),\n",
    "    metrics=['accuracy']\n",
    "    )"
   ]
  },
  {
   "cell_type": "code",
   "execution_count": 6,
   "id": "clear-dress",
   "metadata": {},
   "outputs": [],
   "source": [
    "t_train_cat = tf.keras.utils.to_categorical(t_train, 10)\n",
    "t_test_cat = tf.keras.utils.to_categorical(t_test, 10)"
   ]
  },
  {
   "cell_type": "code",
   "execution_count": 8,
   "id": "adjacent-stereo",
   "metadata": {},
   "outputs": [],
   "source": [
    "from tensorflow.keras.preprocessing.image import ImageDataGenerator\n",
    "batch_size=64\n",
    "\n",
    "datagen2 = ImageDataGenerator(\n",
    "    rescale=1.0/255.0, ### [0,1]に正規化\n",
    "    validation_split=0.2,\n",
    "    rotation_range=15,\n",
    "    width_shift_range=0.1,\n",
    "    height_shift_range=0.1,\n",
    "    horizontal_flip=True,\n",
    "    zoom_range=0.2\n",
    "    )\n",
    "datagen2.fit(x_train)\n",
    "training_generator2 = datagen2.flow(\n",
    "    x_train,   ### [0,255]\n",
    "    t_train_cat,\n",
    "    batch_size=batch_size,\n",
    "    subset='training'\n",
    "    )\n",
    "\n",
    "validation_generator2 = datagen2.flow(\n",
    "    x_train,   #### [0,255]\n",
    "    t_train_cat,\n",
    "    batch_size=batch_size,\n",
    "    subset='validation'\n",
    "    )"
   ]
  },
  {
   "cell_type": "markdown",
   "id": "dynamic-poverty",
   "metadata": {},
   "source": [
    "## Kerasで学習の早期終了を指定する"
   ]
  },
  {
   "cell_type": "code",
   "execution_count": 10,
   "id": "creative-practice",
   "metadata": {},
   "outputs": [
    {
     "name": "stdout",
     "output_type": "stream",
     "text": [
      "Epoch 1/200\n",
      "625/625 [==============================] - 24s 38ms/step - loss: 2.0003 - accuracy: 0.2819 - val_loss: 1.7963 - val_accuracy: 0.3531\n",
      "Epoch 2/200\n",
      "625/625 [==============================] - 24s 38ms/step - loss: 1.5960 - accuracy: 0.4324 - val_loss: 1.4541 - val_accuracy: 0.4825\n",
      "Epoch 3/200\n",
      "625/625 [==============================] - 24s 38ms/step - loss: 1.4412 - accuracy: 0.4873 - val_loss: 1.3147 - val_accuracy: 0.5436\n",
      "Epoch 4/200\n",
      "625/625 [==============================] - 24s 38ms/step - loss: 1.3232 - accuracy: 0.5348 - val_loss: 1.2147 - val_accuracy: 0.5782\n",
      "Epoch 5/200\n",
      "625/625 [==============================] - 24s 38ms/step - loss: 1.2349 - accuracy: 0.5706 - val_loss: 1.1549 - val_accuracy: 0.5947\n",
      "Epoch 6/200\n",
      "625/625 [==============================] - 23s 37ms/step - loss: 1.1705 - accuracy: 0.5985 - val_loss: 1.1265 - val_accuracy: 0.6111\n",
      "Epoch 7/200\n",
      "625/625 [==============================] - 24s 38ms/step - loss: 1.1107 - accuracy: 0.6180 - val_loss: 1.0419 - val_accuracy: 0.6525\n",
      "Epoch 8/200\n",
      "625/625 [==============================] - 24s 38ms/step - loss: 1.0653 - accuracy: 0.6337 - val_loss: 1.0074 - val_accuracy: 0.6575ac - ETA: 0s - l\n",
      "Epoch 9/200\n",
      "625/625 [==============================] - 23s 37ms/step - loss: 1.0215 - accuracy: 0.6565 - val_loss: 1.0212 - val_accuracy: 0.6584\n",
      "Epoch 10/200\n",
      "625/625 [==============================] - 23s 37ms/step - loss: 0.9921 - accuracy: 0.6660 - val_loss: 0.9774 - val_accuracy: 0.6752\n",
      "Epoch 11/200\n",
      "625/625 [==============================] - 24s 38ms/step - loss: 0.9583 - accuracy: 0.6768 - val_loss: 0.9292 - val_accuracy: 0.6883\n",
      "Epoch 12/200\n",
      "625/625 [==============================] - 24s 38ms/step - loss: 0.9369 - accuracy: 0.6858 - val_loss: 0.9366 - val_accuracy: 0.6901\n",
      "Epoch 13/200\n",
      "625/625 [==============================] - 24s 38ms/step - loss: 0.9021 - accuracy: 0.7008 - val_loss: 0.8590 - val_accuracy: 0.7183\n",
      "Epoch 14/200\n",
      "625/625 [==============================] - 24s 38ms/step - loss: 0.8850 - accuracy: 0.7068 - val_loss: 0.8618 - val_accuracy: 0.71010. - ETA: \n",
      "Epoch 15/200\n",
      "625/625 [==============================] - 24s 38ms/step - loss: 0.8675 - accuracy: 0.7128 - val_loss: 0.8317 - val_accuracy: 0.7282\n",
      "Epoch 16/200\n",
      "625/625 [==============================] - 23s 37ms/step - loss: 0.8437 - accuracy: 0.7212 - val_loss: 0.8492 - val_accuracy: 0.7244\n",
      "Epoch 17/200\n",
      "625/625 [==============================] - 24s 38ms/step - loss: 0.8237 - accuracy: 0.7291 - val_loss: 0.8355 - val_accuracy: 0.7261\n",
      "Epoch 18/200\n",
      "625/625 [==============================] - 24s 38ms/step - loss: 0.8128 - accuracy: 0.7336 - val_loss: 0.8394 - val_accuracy: 0.7260\n",
      "Epoch 19/200\n",
      "625/625 [==============================] - 24s 38ms/step - loss: 0.7963 - accuracy: 0.7408 - val_loss: 0.8063 - val_accuracy: 0.7395\n",
      "Epoch 20/200\n",
      "625/625 [==============================] - 24s 38ms/step - loss: 0.7799 - accuracy: 0.7463 - val_loss: 0.7805 - val_accuracy: 0.7512\n",
      "Epoch 21/200\n",
      "625/625 [==============================] - 24s 38ms/step - loss: 0.7693 - accuracy: 0.7514 - val_loss: 0.8039 - val_accuracy: 0.7378\n",
      "Epoch 22/200\n",
      "625/625 [==============================] - 24s 38ms/step - loss: 0.7613 - accuracy: 0.7548 - val_loss: 0.7644 - val_accuracy: 0.7542\n",
      "Epoch 23/200\n",
      "625/625 [==============================] - 24s 38ms/step - loss: 0.7510 - accuracy: 0.7579 - val_loss: 0.7476 - val_accuracy: 0.7633\n",
      "Epoch 24/200\n",
      "625/625 [==============================] - 24s 38ms/step - loss: 0.7348 - accuracy: 0.7628 - val_loss: 0.7762 - val_accuracy: 0.7546\n",
      "Epoch 25/200\n",
      "625/625 [==============================] - 24s 38ms/step - loss: 0.7192 - accuracy: 0.7739 - val_loss: 0.8322 - val_accuracy: 0.7375\n",
      "Epoch 26/200\n",
      "625/625 [==============================] - 24s 38ms/step - loss: 0.7137 - accuracy: 0.7738 - val_loss: 0.7250 - val_accuracy: 0.7713\n",
      "Epoch 27/200\n",
      "625/625 [==============================] - 24s 38ms/step - loss: 0.7053 - accuracy: 0.7756 - val_loss: 0.7514 - val_accuracy: 0.7611\n",
      "Epoch 28/200\n",
      "625/625 [==============================] - 24s 38ms/step - loss: 0.7016 - accuracy: 0.7796 - val_loss: 0.7550 - val_accuracy: 0.7599\n",
      "Epoch 29/200\n",
      "625/625 [==============================] - 24s 38ms/step - loss: 0.6821 - accuracy: 0.7870 - val_loss: 0.7140 - val_accuracy: 0.7813\n",
      "Epoch 30/200\n",
      "625/625 [==============================] - 24s 38ms/step - loss: 0.6772 - accuracy: 0.7882 - val_loss: 0.7441 - val_accuracy: 0.7651\n",
      "Epoch 31/200\n",
      "625/625 [==============================] - 24s 38ms/step - loss: 0.6710 - accuracy: 0.7903 - val_loss: 0.7103 - val_accuracy: 0.7855 - loss: 0.6711 - accuracy: 0.79\n",
      "Epoch 32/200\n",
      "625/625 [==============================] - 24s 38ms/step - loss: 0.6615 - accuracy: 0.7957 - val_loss: 0.7191 - val_accuracy: 0.77452s - loss: 0.6602 - ac - ETA: 1s - loss: 0.6605 -  - ETA\n",
      "Epoch 33/200\n",
      "625/625 [==============================] - 24s 38ms/step - loss: 0.6568 - accuracy: 0.7982 - val_loss: 0.7381 - val_accuracy: 0.7721\n",
      "Epoch 34/200\n",
      "625/625 [==============================] - 24s 38ms/step - loss: 0.6438 - accuracy: 0.8007 - val_loss: 0.7180 - val_accuracy: 0.7787\n",
      "Epoch 35/200\n",
      "625/625 [==============================] - 24s 38ms/step - loss: 0.6491 - accuracy: 0.7975 - val_loss: 0.7394 - val_accuracy: 0.7720\n",
      "Epoch 36/200\n",
      "625/625 [==============================] - 24s 38ms/step - loss: 0.6395 - accuracy: 0.8036 - val_loss: 0.7407 - val_accuracy: 0.7722\n",
      "Epoch 00036: early stopping\n"
     ]
    }
   ],
   "source": [
    "# 5-09-4 Kerasスタイルで早期学習終了に対応する\n",
    "# p.347\n",
    "# [自分へのメモ] loss=categorical_crossentropy に変更している\n",
    "\n",
    "early_stopping = tf.keras.callbacks.EarlyStopping(\n",
    "    monitor='val_loss',\n",
    "    patience=5,\n",
    "    verbose=1\n",
    "    )\n",
    "\n",
    "epochs = 200\n",
    "\n",
    "history2 = model2.fit(\n",
    "    training_generator2,\n",
    "    epochs=epochs,\n",
    "    verbose=1,\n",
    "    validation_data=validation_generator2,\n",
    "    callbacks=[early_stopping]    ### !!! Early Stopping\n",
    "    )"
   ]
  },
  {
   "cell_type": "code",
   "execution_count": 11,
   "id": "ruled-sensitivity",
   "metadata": {},
   "outputs": [],
   "source": [
    "# 5-02-23 損失と精度の推移をグラフにする\n",
    "# p.317\n",
    "# [自分へのメモ] 独自のコードで書き直した\n",
    "\n",
    "%matplotlib inline\n",
    "import matplotlib.pyplot as plt\n",
    "import numpy as np\n",
    "\n",
    "def plot_history(history):\n",
    "    fig, ax = plt.subplots(1, 2, figsize=(6*2, 4))\n",
    "    \n",
    "    ax[0].plot(history.history['accuracy'], \"-\", label=\"accuracy\",c=\"blue\")\n",
    "    ax[0].plot(history.history['val_accuracy'], \"-\", label=\"val_accuracy\",c=\"green\")\n",
    "    ax[0].set_title('model accuracy')\n",
    "    ax[0].set_xlabel('epoch')\n",
    "    ax[0].set_ylabel('accuracy')\n",
    "    ax[0].legend(loc=\"lower right\")\n",
    "    \n",
    "    ax[1].plot(history.history['loss'], \"-\", label=\"loss\", c=\"blue\")\n",
    "    ax[1].plot(history.history['val_loss'], \"-\", label=\"val_loss\", c=\"green\")\n",
    "    ax[1].set_title('model loss')\n",
    "    ax[1].set_xlabel('epoch')\n",
    "    ax[1].set_ylabel('loss')\n",
    "    ax[1].legend(loc=\"upper left\")\n",
    "\n",
    "    plt.subplots_adjust(wspace=0.1)\n",
    "    plt.show()"
   ]
  },
  {
   "cell_type": "code",
   "execution_count": 12,
   "id": "temporal-michigan",
   "metadata": {},
   "outputs": [
    {
     "data": {
      "image/png": "[encoded data removed]",
      "text/plain": [
       "<Figure size 864x288 with 2 Axes>"
      ]
     },
     "metadata": {
      "needs_background": "light"
     },
     "output_type": "display_data"
    }
   ],
   "source": [
    "plot_history(history2)"
   ]
  },
  {
   "cell_type": "code",
   "execution_count": 14,
   "id": "built-minority",
   "metadata": {},
   "outputs": [
    {
     "name": "stdout",
     "output_type": "stream",
     "text": [
      "test_loss: 0.7124  test_acc: 0.7805\n"
     ]
    }
   ],
   "source": [
    "# 学習結果を評価する\n",
    "# [自分へのメモ]　ImageDataGenerator(rescale=1.0/255)しているので、x_testは[0,255]から[0, 1]に変換する必要がある\n",
    "test_loss, test_acc = model2.evaluate(x_test.astype('float32')/255, t_test_cat, verbose=0)\n",
    "print(f'test_loss: {test_loss:.4f}  test_acc: {test_acc:.4f}')"
   ]
  },
  {
   "cell_type": "code",
   "execution_count": null,
   "id": "covered-empire",
   "metadata": {},
   "outputs": [],
   "source": []
  }
 ],
 "metadata": {
  "kernelspec": {
   "display_name": "Python 3",
   "language": "python",
   "name": "python3"
  },
  "language_info": {
   "codemirror_mode": {
    "name": "ipython",
    "version": 3
   },
   "file_extension": ".py",
   "mimetype": "text/x-python",
   "name": "python",
   "nbconvert_exporter": "python",
   "pygments_lexer": "ipython3",
   "version": "3.6.12"
  }
 },
 "nbformat": 4,
 "nbformat_minor": 5
}
