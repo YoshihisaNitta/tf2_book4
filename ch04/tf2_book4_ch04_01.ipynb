{
 "cells": [
  {
   "cell_type": "markdown",
   "id": "optical-tanzania",
   "metadata": {
    "id": "optical-tanzania"
   },
   "source": [
    "# 4.1 tf.sigmoid() で二値分類を解く\n"
   ]
  },
  {
   "cell_type": "code",
   "execution_count": 1,
   "id": "monetary-polls",
   "metadata": {
    "executionInfo": {
     "elapsed": 7,
     "status": "ok",
     "timestamp": 1651381676744,
     "user": {
      "displayName": "Yoshihisa Nitta",
      "userId": "15888006800030996813"
     },
     "user_tz": -540
    },
    "id": "monetary-polls"
   },
   "outputs": [],
   "source": [
    "# 4-01-1 改 ステップ関数のグラフを描く\n",
    "# p.131\n",
    "\n",
    "import numpy as np\n",
    "\n",
    "def step_func(x):\n",
    "    '''\n",
    "    step function\n",
    "    \n",
    "    '''\n",
    "    return (x > 0).astype(int)"
   ]
  },
  {
   "cell_type": "code",
   "execution_count": 2,
   "id": "spanish-cleaner",
   "metadata": {
    "colab": {
     "base_uri": "https://localhost:8080/",
     "height": 269
    },
    "executionInfo": {
     "elapsed": 7,
     "status": "ok",
     "timestamp": 1651381676744,
     "user": {
      "displayName": "Yoshihisa Nitta",
      "userId": "15888006800030996813"
     },
     "user_tz": -540
    },
    "id": "spanish-cleaner",
    "outputId": "34f463fa-fa3c-48e1-cdd0-34ba3dd22bc2"
   },
   "outputs": [
    {
     "data": {
      "image/png": "[encoded data removed]",
      "text/plain": [
       "<Figure size 432x288 with 1 Axes>"
      ]
     },
     "metadata": {
      "needs_background": "light"
     },
     "output_type": "display_data"
    }
   ],
   "source": [
    "%matplotlib inline\n",
    "import matplotlib.pyplot as plt\n",
    "\n",
    "x = np.arange(-5.0, 5.0, 0.01)\n",
    "y = step_func(x)\n",
    "\n",
    "fig, ax = plt.subplots(1, 1, figsize=(6,4))\n",
    "ax.plot(x, y)\n",
    "\n",
    "ax.set_ylim(-0.5, 1.5)\n",
    "ax.set_yticks(np.arange(-0.5, 1.51, 0.5)) # start(-0.5): inclusive, end(1.51): exclusive\n",
    "ax.grid(True)\n",
    "\n",
    "plt.show()"
   ]
  },
  {
   "cell_type": "code",
   "execution_count": 3,
   "id": "worthy-running",
   "metadata": {
    "executionInfo": {
     "elapsed": 6,
     "status": "ok",
     "timestamp": 1651381676745,
     "user": {
      "displayName": "Yoshihisa Nitta",
      "userId": "15888006800030996813"
     },
     "user_tz": -540
    },
    "id": "worthy-running"
   },
   "outputs": [],
   "source": [
    "# 4-01-3 改 sigmoid function の定義\n",
    "def sigmoid(x):\n",
    "    return 1 / (1 + np.exp(-x))"
   ]
  },
  {
   "cell_type": "code",
   "execution_count": 4,
   "id": "generic-blake",
   "metadata": {
    "colab": {
     "base_uri": "https://localhost:8080/",
     "height": 265
    },
    "executionInfo": {
     "elapsed": 364,
     "status": "ok",
     "timestamp": 1651381677104,
     "user": {
      "displayName": "Yoshihisa Nitta",
      "userId": "15888006800030996813"
     },
     "user_tz": -540
    },
    "id": "generic-blake",
    "outputId": "5da29803-99ef-4e93-e9a8-5f41e7ed336a"
   },
   "outputs": [
    {
     "data": {
      "image/png": "[encoded data removed]",
      "text/plain": [
       "<Figure size 432x288 with 1 Axes>"
      ]
     },
     "metadata": {
      "needs_background": "light"
     },
     "output_type": "display_data"
    }
   ],
   "source": [
    "# sigmoid function のグラフを描く\n",
    "%matplotlib inline\n",
    "import matplotlib.pyplot as plt\n",
    "\n",
    "x = np.arange(-5.0, 5.0, 0.01)\n",
    "y = sigmoid(x)\n",
    "\n",
    "fig, ax = plt.subplots(1, 1, figsize=(6,4))\n",
    "ax.plot(x, y)\n",
    "\n",
    "ax.set_ylim(-0.1, 1.1)\n",
    "ax.set_yticks(np.arange(0.0, 1.01, 0.5)) # start(-0.5): inclusive, end(1.51): exclusive\n",
    "ax.grid(True)\n",
    "\n",
    "plt.show()"
   ]
  },
  {
   "cell_type": "markdown",
   "id": "bibliographic-mercury",
   "metadata": {
    "id": "bibliographic-mercury"
   },
   "source": [
    "### ロジスティック回帰による二値分類の実装"
   ]
  },
  {
   "cell_type": "code",
   "execution_count": 5,
   "id": "temporal-calvin",
   "metadata": {
    "colab": {
     "base_uri": "https://localhost:8080/"
    },
    "executionInfo": {
     "elapsed": 756,
     "status": "ok",
     "timestamp": 1651381677857,
     "user": {
      "displayName": "Yoshihisa Nitta",
      "userId": "15888006800030996813"
     },
     "user_tz": -540
    },
    "id": "temporal-calvin",
    "outputId": "bcb8297c-6be3-4f12-b85b-8930a90684f1"
   },
   "outputs": [
    {
     "name": "stdout",
     "output_type": "stream",
     "text": [
      "(500, 2)\n",
      "(500, 1)\n",
      "(1000, 2)\n",
      "(1000, 1)\n"
     ]
    }
   ],
   "source": [
    "# 4-01-4 訓練データの生成\n",
    "import numpy as np\n",
    "from sklearn.model_selection import train_test_split\n",
    "\n",
    "np.random.seed(123)\n",
    "\n",
    "input_dim = 2\n",
    "n = 500\n",
    "\n",
    "x1 = np.random.randn(n, input_dim) + np.array([3, 2]) # (3,2)の周りに500個の点\n",
    "x2 = np.random.randn(n, input_dim) + np.array([7, 6]) # (7,6)の周りに500個の点\n",
    "\n",
    "t1 = np.array([[0] for i in range(n)])  # x1のラベル 0\n",
    "t2 = np.array([[1] for i in range(n)])  # x2のラベル 1\n",
    "\n",
    "print(x1.shape)\n",
    "print(t1.shape)\n",
    "\n",
    "x = np.concatenate((x1, x2), axis=0) # x1, x2 を縦方向に連結\n",
    "t = np.concatenate((t1, t2), axis=0) # t1, t2 を縦方向に連結\n",
    "\n",
    "x = x.astype('float32')\n",
    "t = t.astype('float32')\n",
    "\n",
    "print(x.shape)\n",
    "print(t.shape)\n",
    "\n",
    "x_train, x_validation, t_train, t_validation = train_test_split(x, t, test_size=0.2) # 学習用0.8, 検証用0.2"
   ]
  },
  {
   "cell_type": "code",
   "execution_count": 6,
   "id": "dietary-reynolds",
   "metadata": {
    "colab": {
     "base_uri": "https://localhost:8080/",
     "height": 265
    },
    "executionInfo": {
     "elapsed": 5,
     "status": "ok",
     "timestamp": 1651381677858,
     "user": {
      "displayName": "Yoshihisa Nitta",
      "userId": "15888006800030996813"
     },
     "user_tz": -540
    },
    "id": "dietary-reynolds",
    "outputId": "22ce582a-72ff-4932-bb1b-78dadc593303"
   },
   "outputs": [
    {
     "data": {
      "image/png": "[encoded data removed]",
      "text/plain": [
       "<Figure size 432x288 with 1 Axes>"
      ]
     },
     "metadata": {
      "needs_background": "light"
     },
     "output_type": "display_data"
    }
   ],
   "source": [
    "# 4-01-5 改 訓練データをプロット\n",
    "# 本ではxを全部プロットするコードを載せているが、以下では訓練データtrain_xだけをプロットする。\n",
    "%matplotlib inline\n",
    "import matplotlib.pyplot as plt\n",
    "\n",
    "x_train_t0 = x_train[t_train[:,0] == 0]\n",
    "x_train_t1 = x_train[t_train[:,0] == 1]\n",
    "\n",
    "fig, ax = plt.subplots(1, 1, figsize=(6,4))\n",
    "ax.scatter(x_train_t0[:,0], x_train_t0[:, 1], marker='x', color='blue')\n",
    "ax.scatter(x_train_t1[:,0], x_train_t1[:, 1], marker='o', color='green')\n",
    "\n",
    "plt.show()"
   ]
  },
  {
   "cell_type": "code",
   "execution_count": 7,
   "id": "advisory-feeding",
   "metadata": {
    "executionInfo": {
     "elapsed": 3906,
     "status": "ok",
     "timestamp": 1651381681760,
     "user": {
      "displayName": "Yoshihisa Nitta",
      "userId": "15888006800030996813"
     },
     "user_tz": -540
    },
    "id": "advisory-feeding"
   },
   "outputs": [],
   "source": [
    "# 4-01-6 モデルを生成するクラスの定義\n",
    "# p.154\n",
    "import tensorflow as tf\n",
    "\n",
    "class MLP(tf.keras.Model):\n",
    "    '''\n",
    "    Multilayer Perceptron\n",
    "    '''\n",
    "    def __init__(self, hidden_dim, output_dim):\n",
    "        '''\n",
    "        Parameters:\n",
    "          hidden_dim(int): unit number of hidden layer\n",
    "          output_dim(int): unit number of output layer\n",
    "        '''\n",
    "        super().__init__()\n",
    "        self.l1 = tf.keras.layers.Dense(hidden_dim, activation='sigmoid')\n",
    "        self.l2 = tf.keras.layers.Dense(output_dim, activation='sigmoid')\n",
    "        \n",
    "    def call(self, x):\n",
    "        '''\n",
    "        MLPのインスタンスからコールバックされる関数'''\n",
    "        h = self.l1(x)\n",
    "        y = self.l2(h)\n",
    "        return y"
   ]
  },
  {
   "cell_type": "code",
   "execution_count": 8,
   "id": "liable-cannon",
   "metadata": {
    "executionInfo": {
     "elapsed": 4,
     "status": "ok",
     "timestamp": 1651381681760,
     "user": {
      "displayName": "Yoshihisa Nitta",
      "userId": "15888006800030996813"
     },
     "user_tz": -540
    },
    "id": "liable-cannon"
   },
   "outputs": [],
   "source": [
    "# 4-01-7 クロスエントロピー誤差を求める関数の定義\n",
    "#p.156\n",
    "\n",
    "bce = tf.keras.losses.BinaryCrossentropy()\n",
    "\n",
    "def loss(t, y):\n",
    "    '''\n",
    "    Parameters:\n",
    "      t(ndarray(float32)): 正解ラベル\n",
    "      y(ndarray(float32)): 予測値\n",
    "    '''\n",
    "    return bce(t, y)"
   ]
  },
  {
   "cell_type": "code",
   "execution_count": 9,
   "id": "daily-absolute",
   "metadata": {
    "executionInfo": {
     "elapsed": 3,
     "status": "ok",
     "timestamp": 1651381681760,
     "user": {
      "displayName": "Yoshihisa Nitta",
      "userId": "15888006800030996813"
     },
     "user_tz": -540
    },
    "id": "daily-absolute"
   },
   "outputs": [],
   "source": [
    "# 4-01-8 バックプロパゲーション\n",
    "# p.157\n",
    "\n",
    "optimizer = tf.keras.optimizers.SGD(learning_rate=0.1)\n",
    "\n",
    "@tf.function\n",
    "def train_step(x, t):\n",
    "    '''\n",
    "    Update parameters with backpropagation\n",
    "    \n",
    "    Parameters:\n",
    "      x (ndarray(float32)): training data\n",
    "      t (ndarray(float32)): label\n",
    "      \n",
    "    Returns:\n",
    "       crossentropy_error\n",
    "    '''\n",
    "    \n",
    "    with tf.GradientTape() as tape:\n",
    "        outputs = model(x)                  # modelは外部変数\n",
    "        tmp_loss = loss(t, outputs)\n",
    "    # tapeに記録された情報を元に勾配を計算する\n",
    "    grads = tape.gradient(tmp_loss, model.trainable_variables)\n",
    "    optimizer.apply_gradients(zip(grads, model.trainable_variables))\n",
    "    return tmp_loss"
   ]
  },
  {
   "cell_type": "code",
   "execution_count": 10,
   "id": "focal-teens",
   "metadata": {
    "colab": {
     "base_uri": "https://localhost:8080/"
    },
    "executionInfo": {
     "elapsed": 9814,
     "status": "ok",
     "timestamp": 1651381691571,
     "user": {
      "displayName": "Yoshihisa Nitta",
      "userId": "15888006800030996813"
     },
     "user_tz": -540
    },
    "id": "focal-teens",
    "outputId": "cd8eb18d-fc35-4d09-88c8-d5c91dffbd13"
   },
   "outputs": [
    {
     "name": "stdout",
     "output_type": "stream",
     "text": [
      "epoch: 10, loss: 0.619188\n",
      "epoch: 20, loss: 0.395204\n",
      "epoch: 30, loss: 0.239842\n",
      "epoch: 40, loss: 0.155677\n",
      "epoch: 50, loss: 0.111686\n",
      "Model: \"mlp\"\n",
      "_________________________________________________________________\n",
      "Layer (type)                 Output Shape              Param #   \n",
      "=================================================================\n",
      "dense (Dense)                multiple                  6         \n",
      "_________________________________________________________________\n",
      "dense_1 (Dense)              multiple                  3         \n",
      "=================================================================\n",
      "Total params: 9\n",
      "Trainable params: 9\n",
      "Non-trainable params: 0\n",
      "_________________________________________________________________\n"
     ]
    }
   ],
   "source": [
    "# 4-01-9 バックプロパゲーションによるパラメータの更新\n",
    "# p.159\n",
    "\n",
    "from sklearn.utils import shuffle\n",
    "\n",
    "epochs = 50\n",
    "batch_size = 32\n",
    "steps = x_train.shape[0] // batch_size\n",
    "\n",
    "model = MLP(2, 1)\n",
    "\n",
    "for epoch in range(epochs):\n",
    "    epoch_loss = 0\n",
    "    x_, t_ = shuffle(x_train, t_train, random_state=0)\n",
    "    for step in range(steps):\n",
    "        #start = steps * step   # !!! bug?\n",
    "        start = batch_size * step   # bug fix by nitta 2021/02/26\n",
    "        end = start + batch_size\n",
    "        tmp_loss = train_step(x_[start:end], t_[start:end])\n",
    "    epoch_loss = tmp_loss.numpy()\n",
    "    \n",
    "    if (epoch + 1) % 10 == 0:\n",
    "        print(f'epoch: {epoch+1}, loss: {epoch_loss:.6f}')\n",
    "        \n",
    "model.summary()"
   ]
  },
  {
   "cell_type": "code",
   "execution_count": 11,
   "id": "legislative-professional",
   "metadata": {
    "colab": {
     "base_uri": "https://localhost:8080/"
    },
    "executionInfo": {
     "elapsed": 466,
     "status": "ok",
     "timestamp": 1651381692034,
     "user": {
      "displayName": "Yoshihisa Nitta",
      "userId": "15888006800030996813"
     },
     "user_tz": -540
    },
    "id": "legislative-professional",
    "outputId": "b172a920-4e0a-4b43-e42d-a0c2da7973d7"
   },
   "outputs": [
    {
     "name": "stdout",
     "output_type": "stream",
     "text": [
      "val_loss: 0.095599  val_acc: 0.995000\n"
     ]
    }
   ],
   "source": [
    "# 4-01-10 検証データで損失と精度を測定する\n",
    "t_preds = model(x_validation)\n",
    "bn_acc = tf.keras.metrics.BinaryAccuracy(threshold=0.5)\n",
    "bn_acc.update_state(t_validation, t_preds)\n",
    "validation_acc = bn_acc.result().numpy()\n",
    "validation_loss = loss(t_validation, t_preds)\n",
    "print(f'val_loss: {validation_loss:.6f}  val_acc: {validation_acc:.6f}')"
   ]
  },
  {
   "cell_type": "markdown",
   "id": "direct-laundry",
   "metadata": {
    "id": "direct-laundry"
   },
   "source": [
    "## Keras (tensorflow.keras) によるプログラミング\n"
   ]
  },
  {
   "cell_type": "code",
   "execution_count": 12,
   "id": "needed-marriage",
   "metadata": {
    "executionInfo": {
     "elapsed": 3,
     "status": "ok",
     "timestamp": 1651381692034,
     "user": {
      "displayName": "Yoshihisa Nitta",
      "userId": "15888006800030996813"
     },
     "user_tz": -540
    },
    "id": "needed-marriage"
   },
   "outputs": [],
   "source": [
    "from tensorflow.keras.models import Sequential\n",
    "from tensorflow.keras.layers import Dense\n",
    "from tensorflow.keras import optimizers\n",
    "\n",
    "model2 = Sequential()\n",
    "model2.add(Dense(2, activation='sigmoid'))\n",
    "model2.add(Dense(1, activation='sigmoid'))\n",
    "\n",
    "optimizer2 = optimizers.SGD(learning_rate=0.1)\n",
    "\n",
    "model2.compile(optimizer = optimizer2,\n",
    "             loss='binary_crossentropy',\n",
    "             metrics = ['accuracy'])"
   ]
  },
  {
   "cell_type": "code",
   "execution_count": 13,
   "id": "human-officer",
   "metadata": {
    "colab": {
     "base_uri": "https://localhost:8080/"
    },
    "executionInfo": {
     "elapsed": 9873,
     "status": "ok",
     "timestamp": 1651381701905,
     "user": {
      "displayName": "Yoshihisa Nitta",
      "userId": "15888006800030996813"
     },
     "user_tz": -540
    },
    "id": "human-officer",
    "outputId": "c14b421b-35ba-4dcf-d06c-6ec8ce05a905"
   },
   "outputs": [
    {
     "name": "stdout",
     "output_type": "stream",
     "text": [
      "Epoch 1/100\n",
      "25/25 [==============================] - 0s 6ms/step - loss: 0.6925 - accuracy: 0.5263 - val_loss: 0.6814 - val_accuracy: 0.5500\n",
      "Epoch 2/100\n",
      "25/25 [==============================] - 0s 2ms/step - loss: 0.6641 - accuracy: 0.5738 - val_loss: 0.6611 - val_accuracy: 0.6250\n",
      "Epoch 3/100\n",
      "25/25 [==============================] - 0s 2ms/step - loss: 0.6532 - accuracy: 0.7000 - val_loss: 0.6536 - val_accuracy: 0.6300\n",
      "Epoch 4/100\n",
      "25/25 [==============================] - 0s 2ms/step - loss: 0.6455 - accuracy: 0.6875 - val_loss: 0.6438 - val_accuracy: 0.7050\n",
      "Epoch 5/100\n",
      "25/25 [==============================] - 0s 2ms/step - loss: 0.6370 - accuracy: 0.7600 - val_loss: 0.6351 - val_accuracy: 0.7350\n",
      "Epoch 6/100\n",
      "25/25 [==============================] - 0s 2ms/step - loss: 0.6280 - accuracy: 0.7750 - val_loss: 0.6250 - val_accuracy: 0.7800\n",
      "Epoch 7/100\n",
      "25/25 [==============================] - 0s 2ms/step - loss: 0.6172 - accuracy: 0.8213 - val_loss: 0.6151 - val_accuracy: 0.7550\n",
      "Epoch 8/100\n",
      "25/25 [==============================] - 0s 2ms/step - loss: 0.6052 - accuracy: 0.8200 - val_loss: 0.6011 - val_accuracy: 0.8100\n",
      "Epoch 9/100\n",
      "25/25 [==============================] - 0s 2ms/step - loss: 0.5903 - accuracy: 0.8313 - val_loss: 0.5836 - val_accuracy: 0.8950\n",
      "Epoch 10/100\n",
      "25/25 [==============================] - 0s 2ms/step - loss: 0.5729 - accuracy: 0.9038 - val_loss: 0.5646 - val_accuracy: 0.9450\n",
      "Epoch 11/100\n",
      "25/25 [==============================] - 0s 2ms/step - loss: 0.5531 - accuracy: 0.9300 - val_loss: 0.5424 - val_accuracy: 0.9650\n",
      "Epoch 12/100\n",
      "25/25 [==============================] - 0s 2ms/step - loss: 0.5302 - accuracy: 0.9712 - val_loss: 0.5194 - val_accuracy: 0.9650\n",
      "Epoch 13/100\n",
      "25/25 [==============================] - 0s 2ms/step - loss: 0.5053 - accuracy: 0.9812 - val_loss: 0.4925 - val_accuracy: 0.9800\n",
      "Epoch 14/100\n",
      "25/25 [==============================] - 0s 2ms/step - loss: 0.4807 - accuracy: 0.9862 - val_loss: 0.4646 - val_accuracy: 0.9900\n",
      "Epoch 15/100\n",
      "25/25 [==============================] - 0s 2ms/step - loss: 0.4515 - accuracy: 0.9900 - val_loss: 0.4374 - val_accuracy: 0.9900\n",
      "Epoch 16/100\n",
      "25/25 [==============================] - 0s 2ms/step - loss: 0.4252 - accuracy: 0.9900 - val_loss: 0.4099 - val_accuracy: 0.9900\n",
      "Epoch 17/100\n",
      "25/25 [==============================] - 0s 2ms/step - loss: 0.3979 - accuracy: 0.9925 - val_loss: 0.3853 - val_accuracy: 0.9800\n",
      "Epoch 18/100\n",
      "25/25 [==============================] - 0s 2ms/step - loss: 0.3717 - accuracy: 0.9925 - val_loss: 0.3584 - val_accuracy: 0.9900\n",
      "Epoch 19/100\n",
      "25/25 [==============================] - 0s 2ms/step - loss: 0.3476 - accuracy: 0.9925 - val_loss: 0.3340 - val_accuracy: 0.9900\n",
      "Epoch 20/100\n",
      "25/25 [==============================] - 0s 2ms/step - loss: 0.3226 - accuracy: 0.9912 - val_loss: 0.3174 - val_accuracy: 0.9800\n",
      "Epoch 21/100\n",
      "25/25 [==============================] - 0s 2ms/step - loss: 0.3004 - accuracy: 0.9937 - val_loss: 0.2899 - val_accuracy: 0.9950\n",
      "Epoch 22/100\n",
      "25/25 [==============================] - 0s 2ms/step - loss: 0.2799 - accuracy: 0.9912 - val_loss: 0.2722 - val_accuracy: 0.9800\n",
      "Epoch 23/100\n",
      "25/25 [==============================] - 0s 2ms/step - loss: 0.2606 - accuracy: 0.9925 - val_loss: 0.2520 - val_accuracy: 0.9850\n",
      "Epoch 24/100\n",
      "25/25 [==============================] - 0s 2ms/step - loss: 0.2420 - accuracy: 0.9950 - val_loss: 0.2413 - val_accuracy: 0.9750\n",
      "Epoch 25/100\n",
      "25/25 [==============================] - 0s 2ms/step - loss: 0.2262 - accuracy: 0.9937 - val_loss: 0.2225 - val_accuracy: 0.9800\n",
      "Epoch 26/100\n",
      "25/25 [==============================] - 0s 2ms/step - loss: 0.2110 - accuracy: 0.9925 - val_loss: 0.2065 - val_accuracy: 0.9850\n",
      "Epoch 27/100\n",
      "25/25 [==============================] - 0s 2ms/step - loss: 0.1973 - accuracy: 0.9925 - val_loss: 0.1953 - val_accuracy: 0.9800\n",
      "Epoch 28/100\n",
      "25/25 [==============================] - 0s 2ms/step - loss: 0.1844 - accuracy: 0.9937 - val_loss: 0.1797 - val_accuracy: 0.9950\n",
      "Epoch 29/100\n",
      "25/25 [==============================] - 0s 2ms/step - loss: 0.1730 - accuracy: 0.9950 - val_loss: 0.1743 - val_accuracy: 0.9800\n",
      "Epoch 30/100\n",
      "25/25 [==============================] - 0s 2ms/step - loss: 0.1634 - accuracy: 0.9950 - val_loss: 0.1640 - val_accuracy: 0.9800\n",
      "Epoch 31/100\n",
      "25/25 [==============================] - 0s 2ms/step - loss: 0.1537 - accuracy: 0.9937 - val_loss: 0.1526 - val_accuracy: 0.9900\n",
      "Epoch 32/100\n",
      "25/25 [==============================] - 0s 2ms/step - loss: 0.1450 - accuracy: 0.9950 - val_loss: 0.1426 - val_accuracy: 0.9900\n",
      "Epoch 33/100\n",
      "25/25 [==============================] - 0s 2ms/step - loss: 0.1370 - accuracy: 0.9950 - val_loss: 0.1366 - val_accuracy: 0.9900\n",
      "Epoch 34/100\n",
      "25/25 [==============================] - 0s 2ms/step - loss: 0.1304 - accuracy: 0.9950 - val_loss: 0.1277 - val_accuracy: 0.9900\n",
      "Epoch 35/100\n",
      "25/25 [==============================] - 0s 2ms/step - loss: 0.1233 - accuracy: 0.9950 - val_loss: 0.1206 - val_accuracy: 0.9950\n",
      "Epoch 36/100\n",
      "25/25 [==============================] - 0s 2ms/step - loss: 0.1167 - accuracy: 0.9950 - val_loss: 0.1150 - val_accuracy: 0.9950\n",
      "Epoch 37/100\n",
      "25/25 [==============================] - 0s 2ms/step - loss: 0.1113 - accuracy: 0.9962 - val_loss: 0.1098 - val_accuracy: 0.9950\n",
      "Epoch 38/100\n",
      "25/25 [==============================] - 0s 2ms/step - loss: 0.1065 - accuracy: 0.9950 - val_loss: 0.1043 - val_accuracy: 0.9950\n",
      "Epoch 39/100\n",
      "25/25 [==============================] - 0s 2ms/step - loss: 0.1018 - accuracy: 0.9950 - val_loss: 0.1001 - val_accuracy: 0.9950\n",
      "Epoch 40/100\n",
      "25/25 [==============================] - 0s 2ms/step - loss: 0.0971 - accuracy: 0.9937 - val_loss: 0.0963 - val_accuracy: 0.9950\n",
      "Epoch 41/100\n",
      "25/25 [==============================] - 0s 2ms/step - loss: 0.0937 - accuracy: 0.9950 - val_loss: 0.0940 - val_accuracy: 0.9900\n",
      "Epoch 42/100\n",
      "25/25 [==============================] - 0s 2ms/step - loss: 0.0893 - accuracy: 0.9950 - val_loss: 0.0937 - val_accuracy: 0.9900\n",
      "Epoch 43/100\n",
      "25/25 [==============================] - 0s 2ms/step - loss: 0.0867 - accuracy: 0.9950 - val_loss: 0.0850 - val_accuracy: 0.9950\n",
      "Epoch 44/100\n",
      "25/25 [==============================] - 0s 2ms/step - loss: 0.0833 - accuracy: 0.9950 - val_loss: 0.0817 - val_accuracy: 0.9950\n",
      "Epoch 45/100\n",
      "25/25 [==============================] - 0s 2ms/step - loss: 0.0801 - accuracy: 0.9962 - val_loss: 0.0785 - val_accuracy: 0.9950\n",
      "Epoch 46/100\n",
      "25/25 [==============================] - 0s 2ms/step - loss: 0.0772 - accuracy: 0.9937 - val_loss: 0.0765 - val_accuracy: 0.9950\n",
      "Epoch 47/100\n",
      "25/25 [==============================] - 0s 2ms/step - loss: 0.0746 - accuracy: 0.9962 - val_loss: 0.0754 - val_accuracy: 0.9950\n",
      "Epoch 48/100\n",
      "25/25 [==============================] - 0s 2ms/step - loss: 0.0721 - accuracy: 0.9962 - val_loss: 0.0719 - val_accuracy: 0.9950\n",
      "Epoch 49/100\n",
      "25/25 [==============================] - 0s 2ms/step - loss: 0.0708 - accuracy: 0.9937 - val_loss: 0.0687 - val_accuracy: 0.9950\n",
      "Epoch 50/100\n",
      "25/25 [==============================] - 0s 2ms/step - loss: 0.0679 - accuracy: 0.9962 - val_loss: 0.0663 - val_accuracy: 0.9950\n",
      "Epoch 51/100\n",
      "25/25 [==============================] - 0s 2ms/step - loss: 0.0658 - accuracy: 0.9962 - val_loss: 0.0651 - val_accuracy: 0.9950\n",
      "Epoch 52/100\n",
      "25/25 [==============================] - 0s 2ms/step - loss: 0.0639 - accuracy: 0.9950 - val_loss: 0.0630 - val_accuracy: 0.9950\n",
      "Epoch 53/100\n",
      "25/25 [==============================] - 0s 2ms/step - loss: 0.0619 - accuracy: 0.9962 - val_loss: 0.0607 - val_accuracy: 1.0000\n",
      "Epoch 54/100\n",
      "25/25 [==============================] - 0s 2ms/step - loss: 0.0601 - accuracy: 0.9950 - val_loss: 0.0587 - val_accuracy: 1.0000\n",
      "Epoch 55/100\n",
      "25/25 [==============================] - 0s 2ms/step - loss: 0.0587 - accuracy: 0.9962 - val_loss: 0.0592 - val_accuracy: 0.9950\n",
      "Epoch 56/100\n",
      "25/25 [==============================] - 0s 2ms/step - loss: 0.0571 - accuracy: 0.9962 - val_loss: 0.0562 - val_accuracy: 1.0000\n",
      "Epoch 57/100\n",
      "25/25 [==============================] - 0s 2ms/step - loss: 0.0557 - accuracy: 0.9950 - val_loss: 0.0551 - val_accuracy: 0.9950\n",
      "Epoch 58/100\n",
      "25/25 [==============================] - 0s 2ms/step - loss: 0.0546 - accuracy: 0.9962 - val_loss: 0.0528 - val_accuracy: 1.0000\n"
     ]
    },
    {
     "name": "stdout",
     "output_type": "stream",
     "text": [
      "Epoch 59/100\n",
      "25/25 [==============================] - 0s 2ms/step - loss: 0.0530 - accuracy: 0.9937 - val_loss: 0.0513 - val_accuracy: 1.0000\n",
      "Epoch 60/100\n",
      "25/25 [==============================] - 0s 2ms/step - loss: 0.0525 - accuracy: 0.9950 - val_loss: 0.0526 - val_accuracy: 0.9950\n",
      "Epoch 61/100\n",
      "25/25 [==============================] - 0s 2ms/step - loss: 0.0504 - accuracy: 0.9975 - val_loss: 0.0503 - val_accuracy: 0.9950\n",
      "Epoch 62/100\n",
      "25/25 [==============================] - 0s 2ms/step - loss: 0.0495 - accuracy: 0.9962 - val_loss: 0.0504 - val_accuracy: 0.9950\n",
      "Epoch 63/100\n",
      "25/25 [==============================] - 0s 2ms/step - loss: 0.0488 - accuracy: 0.9950 - val_loss: 0.0478 - val_accuracy: 1.0000\n",
      "Epoch 64/100\n",
      "25/25 [==============================] - 0s 2ms/step - loss: 0.0469 - accuracy: 0.9975 - val_loss: 0.0481 - val_accuracy: 0.9950\n",
      "Epoch 65/100\n",
      "25/25 [==============================] - 0s 2ms/step - loss: 0.0467 - accuracy: 0.9975 - val_loss: 0.0447 - val_accuracy: 1.0000\n",
      "Epoch 66/100\n",
      "25/25 [==============================] - 0s 2ms/step - loss: 0.0460 - accuracy: 0.9950 - val_loss: 0.0446 - val_accuracy: 1.0000\n",
      "Epoch 67/100\n",
      "25/25 [==============================] - 0s 2ms/step - loss: 0.0447 - accuracy: 0.9962 - val_loss: 0.0437 - val_accuracy: 1.0000\n",
      "Epoch 68/100\n",
      "25/25 [==============================] - 0s 2ms/step - loss: 0.0436 - accuracy: 0.9962 - val_loss: 0.0428 - val_accuracy: 1.0000\n",
      "Epoch 69/100\n",
      "25/25 [==============================] - 0s 2ms/step - loss: 0.0428 - accuracy: 0.9962 - val_loss: 0.0423 - val_accuracy: 1.0000\n",
      "Epoch 70/100\n",
      "25/25 [==============================] - 0s 2ms/step - loss: 0.0423 - accuracy: 0.9950 - val_loss: 0.0404 - val_accuracy: 1.0000\n",
      "Epoch 71/100\n",
      "25/25 [==============================] - 0s 2ms/step - loss: 0.0415 - accuracy: 0.9962 - val_loss: 0.0409 - val_accuracy: 1.0000\n",
      "Epoch 72/100\n",
      "25/25 [==============================] - 0s 2ms/step - loss: 0.0405 - accuracy: 0.9950 - val_loss: 0.0386 - val_accuracy: 1.0000\n",
      "Epoch 73/100\n",
      "25/25 [==============================] - 0s 2ms/step - loss: 0.0399 - accuracy: 0.9962 - val_loss: 0.0382 - val_accuracy: 1.0000\n",
      "Epoch 74/100\n",
      "25/25 [==============================] - 0s 2ms/step - loss: 0.0393 - accuracy: 0.9962 - val_loss: 0.0382 - val_accuracy: 1.0000\n",
      "Epoch 75/100\n",
      "25/25 [==============================] - 0s 2ms/step - loss: 0.0384 - accuracy: 0.9962 - val_loss: 0.0365 - val_accuracy: 1.0000\n",
      "Epoch 76/100\n",
      "25/25 [==============================] - 0s 2ms/step - loss: 0.0381 - accuracy: 0.9962 - val_loss: 0.0363 - val_accuracy: 1.0000\n",
      "Epoch 77/100\n",
      "25/25 [==============================] - 0s 2ms/step - loss: 0.0367 - accuracy: 0.9962 - val_loss: 0.0354 - val_accuracy: 1.0000\n",
      "Epoch 78/100\n",
      "25/25 [==============================] - 0s 2ms/step - loss: 0.0373 - accuracy: 0.9950 - val_loss: 0.0349 - val_accuracy: 1.0000\n",
      "Epoch 79/100\n",
      "25/25 [==============================] - 0s 2ms/step - loss: 0.0364 - accuracy: 0.9962 - val_loss: 0.0340 - val_accuracy: 1.0000\n",
      "Epoch 80/100\n",
      "25/25 [==============================] - 0s 2ms/step - loss: 0.0357 - accuracy: 0.9950 - val_loss: 0.0336 - val_accuracy: 1.0000\n",
      "Epoch 81/100\n",
      "25/25 [==============================] - 0s 2ms/step - loss: 0.0353 - accuracy: 0.9962 - val_loss: 0.0338 - val_accuracy: 1.0000\n",
      "Epoch 82/100\n",
      "25/25 [==============================] - 0s 2ms/step - loss: 0.0349 - accuracy: 0.9950 - val_loss: 0.0336 - val_accuracy: 1.0000\n",
      "Epoch 83/100\n",
      "25/25 [==============================] - 0s 2ms/step - loss: 0.0345 - accuracy: 0.9962 - val_loss: 0.0325 - val_accuracy: 1.0000\n",
      "Epoch 84/100\n",
      "25/25 [==============================] - 0s 2ms/step - loss: 0.0336 - accuracy: 0.9962 - val_loss: 0.0318 - val_accuracy: 1.0000\n",
      "Epoch 85/100\n",
      "25/25 [==============================] - 0s 2ms/step - loss: 0.0332 - accuracy: 0.9962 - val_loss: 0.0311 - val_accuracy: 1.0000\n",
      "Epoch 86/100\n",
      "25/25 [==============================] - 0s 2ms/step - loss: 0.0326 - accuracy: 0.9962 - val_loss: 0.0308 - val_accuracy: 1.0000\n",
      "Epoch 87/100\n",
      "25/25 [==============================] - 0s 2ms/step - loss: 0.0322 - accuracy: 0.9962 - val_loss: 0.0304 - val_accuracy: 1.0000\n",
      "Epoch 88/100\n",
      "25/25 [==============================] - 0s 2ms/step - loss: 0.0314 - accuracy: 0.9962 - val_loss: 0.0315 - val_accuracy: 1.0000\n",
      "Epoch 89/100\n",
      "25/25 [==============================] - 0s 2ms/step - loss: 0.0307 - accuracy: 0.9962 - val_loss: 0.0291 - val_accuracy: 1.0000\n",
      "Epoch 90/100\n",
      "25/25 [==============================] - 0s 2ms/step - loss: 0.0314 - accuracy: 0.9962 - val_loss: 0.0288 - val_accuracy: 1.0000\n",
      "Epoch 91/100\n",
      "25/25 [==============================] - 0s 2ms/step - loss: 0.0305 - accuracy: 0.9962 - val_loss: 0.0283 - val_accuracy: 1.0000\n",
      "Epoch 92/100\n",
      "25/25 [==============================] - 0s 2ms/step - loss: 0.0302 - accuracy: 0.9962 - val_loss: 0.0283 - val_accuracy: 1.0000\n",
      "Epoch 93/100\n",
      "25/25 [==============================] - 0s 2ms/step - loss: 0.0299 - accuracy: 0.9962 - val_loss: 0.0288 - val_accuracy: 1.0000\n",
      "Epoch 94/100\n",
      "25/25 [==============================] - 0s 2ms/step - loss: 0.0297 - accuracy: 0.9962 - val_loss: 0.0277 - val_accuracy: 1.0000\n",
      "Epoch 95/100\n",
      "25/25 [==============================] - 0s 2ms/step - loss: 0.0295 - accuracy: 0.9962 - val_loss: 0.0293 - val_accuracy: 1.0000\n",
      "Epoch 96/100\n",
      "25/25 [==============================] - 0s 2ms/step - loss: 0.0287 - accuracy: 0.9962 - val_loss: 0.0262 - val_accuracy: 1.0000\n",
      "Epoch 97/100\n",
      "25/25 [==============================] - 0s 2ms/step - loss: 0.0289 - accuracy: 0.9962 - val_loss: 0.0264 - val_accuracy: 1.0000\n",
      "Epoch 98/100\n",
      "25/25 [==============================] - 0s 2ms/step - loss: 0.0284 - accuracy: 0.9962 - val_loss: 0.0271 - val_accuracy: 1.0000\n",
      "Epoch 99/100\n",
      "25/25 [==============================] - 0s 2ms/step - loss: 0.0278 - accuracy: 0.9962 - val_loss: 0.0262 - val_accuracy: 1.0000\n",
      "Epoch 100/100\n",
      "25/25 [==============================] - 0s 2ms/step - loss: 0.0277 - accuracy: 0.9950 - val_loss: 0.0256 - val_accuracy: 1.0000\n",
      "Model: \"sequential\"\n",
      "_________________________________________________________________\n",
      "Layer (type)                 Output Shape              Param #   \n",
      "=================================================================\n",
      "dense_2 (Dense)              (None, 2)                 6         \n",
      "_________________________________________________________________\n",
      "dense_3 (Dense)              (None, 1)                 3         \n",
      "=================================================================\n",
      "Total params: 9\n",
      "Trainable params: 9\n",
      "Non-trainable params: 0\n",
      "_________________________________________________________________\n"
     ]
    }
   ],
   "source": [
    "history = model2.fit(x_train,\n",
    "                   t_train,\n",
    "                   epochs=100,\n",
    "                   batch_size=32,\n",
    "                   verbose=1,\n",
    "                   validation_data=(x_validation, t_validation)\n",
    "                   )\n",
    "\n",
    "model2.summary()"
   ]
  },
  {
   "cell_type": "markdown",
   "id": "adopted-entity",
   "metadata": {
    "id": "adopted-entity"
   },
   "source": [
    "## [自習]　Keras のFunctional API で記述する。"
   ]
  },
  {
   "cell_type": "code",
   "execution_count": 14,
   "id": "registered-cartoon",
   "metadata": {
    "executionInfo": {
     "elapsed": 6,
     "status": "ok",
     "timestamp": 1651381701905,
     "user": {
      "displayName": "Yoshihisa Nitta",
      "userId": "15888006800030996813"
     },
     "user_tz": -540
    },
    "id": "registered-cartoon"
   },
   "outputs": [],
   "source": [
    "from tensorflow.keras.models import Sequential\n",
    "from tensorflow.keras.layers import Dense\n",
    "from tensorflow.keras import optimizers\n",
    "\n",
    "input = tf.keras.Input(shape=(2), dtype='float32')\n",
    "H = Dense(2, activation='sigmoid')(input)\n",
    "H = Dense(1, activation='sigmoid')(H)\n",
    "model3 = tf.keras.Model(inputs=input, outputs=H)\n",
    "\n",
    "optimizer3 = optimizers.SGD(learning_rate=0.1)\n",
    "\n",
    "model3.compile(optimizer = optimizer3,\n",
    "               loss='binary_crossentropy',\n",
    "               metrics = ['accuracy'])"
   ]
  },
  {
   "cell_type": "code",
   "execution_count": 15,
   "id": "conceptual-stable",
   "metadata": {
    "colab": {
     "base_uri": "https://localhost:8080/"
    },
    "id": "conceptual-stable",
    "outputId": "1a362bdf-185c-4a38-ff8f-bb03ecd1b27a"
   },
   "outputs": [
    {
     "name": "stdout",
     "output_type": "stream",
     "text": [
      "Epoch 1/100\n",
      "25/25 [==============================] - 0s 7ms/step - loss: 0.6595 - accuracy: 0.7437 - val_loss: 0.6504 - val_accuracy: 0.5750\n",
      "Epoch 2/100\n",
      "25/25 [==============================] - 0s 2ms/step - loss: 0.6391 - accuracy: 0.7075 - val_loss: 0.6322 - val_accuracy: 0.7950\n",
      "Epoch 3/100\n",
      "25/25 [==============================] - 0s 2ms/step - loss: 0.6218 - accuracy: 0.8675 - val_loss: 0.6138 - val_accuracy: 0.8650\n",
      "Epoch 4/100\n",
      "25/25 [==============================] - 0s 2ms/step - loss: 0.6042 - accuracy: 0.9375 - val_loss: 0.5959 - val_accuracy: 0.8800\n",
      "Epoch 5/100\n",
      "25/25 [==============================] - 0s 2ms/step - loss: 0.5852 - accuracy: 0.9187 - val_loss: 0.5749 - val_accuracy: 0.9100\n",
      "Epoch 6/100\n",
      "25/25 [==============================] - 0s 2ms/step - loss: 0.5640 - accuracy: 0.9112 - val_loss: 0.5525 - val_accuracy: 0.9550\n",
      "Epoch 7/100\n",
      "25/25 [==============================] - 0s 2ms/step - loss: 0.5435 - accuracy: 0.9425 - val_loss: 0.5293 - val_accuracy: 0.9250\n",
      "Epoch 8/100\n",
      "25/25 [==============================] - 0s 2ms/step - loss: 0.5191 - accuracy: 0.9400 - val_loss: 0.5061 - val_accuracy: 0.9200\n",
      "Epoch 9/100\n",
      "25/25 [==============================] - 0s 2ms/step - loss: 0.4956 - accuracy: 0.9400 - val_loss: 0.4840 - val_accuracy: 0.9000\n",
      "Epoch 10/100\n",
      "25/25 [==============================] - 0s 2ms/step - loss: 0.4713 - accuracy: 0.9350 - val_loss: 0.4571 - val_accuracy: 0.9100\n",
      "Epoch 11/100\n",
      "25/25 [==============================] - 0s 2ms/step - loss: 0.4471 - accuracy: 0.9388 - val_loss: 0.4335 - val_accuracy: 0.9200\n",
      "Epoch 12/100\n",
      "25/25 [==============================] - 0s 2ms/step - loss: 0.4237 - accuracy: 0.9425 - val_loss: 0.4100 - val_accuracy: 0.9300\n",
      "Epoch 13/100\n",
      "25/25 [==============================] - 0s 2ms/step - loss: 0.3999 - accuracy: 0.9525 - val_loss: 0.3862 - val_accuracy: 0.9400\n",
      "Epoch 14/100\n",
      "25/25 [==============================] - 0s 2ms/step - loss: 0.3768 - accuracy: 0.9525 - val_loss: 0.3639 - val_accuracy: 0.9500\n",
      "Epoch 15/100\n",
      "25/25 [==============================] - 0s 2ms/step - loss: 0.3536 - accuracy: 0.9625 - val_loss: 0.3421 - val_accuracy: 0.9550\n",
      "Epoch 16/100\n",
      "25/25 [==============================] - 0s 2ms/step - loss: 0.3316 - accuracy: 0.9675 - val_loss: 0.3201 - val_accuracy: 0.9600\n",
      "Epoch 17/100\n",
      "25/25 [==============================] - 0s 2ms/step - loss: 0.3099 - accuracy: 0.9750 - val_loss: 0.3001 - val_accuracy: 0.9600\n",
      "Epoch 18/100\n",
      "25/25 [==============================] - 0s 2ms/step - loss: 0.2916 - accuracy: 0.9787 - val_loss: 0.2857 - val_accuracy: 0.9600\n",
      "Epoch 19/100\n",
      "25/25 [==============================] - 0s 2ms/step - loss: 0.2706 - accuracy: 0.9875 - val_loss: 0.2637 - val_accuracy: 0.9650\n",
      "Epoch 20/100\n",
      "25/25 [==============================] - 0s 2ms/step - loss: 0.2533 - accuracy: 0.9900 - val_loss: 0.2461 - val_accuracy: 0.9750\n",
      "Epoch 21/100\n",
      "25/25 [==============================] - 0s 2ms/step - loss: 0.2362 - accuracy: 0.9862 - val_loss: 0.2314 - val_accuracy: 0.9950\n",
      "Epoch 22/100\n",
      "25/25 [==============================] - 0s 2ms/step - loss: 0.2229 - accuracy: 0.9925 - val_loss: 0.2152 - val_accuracy: 0.9850\n",
      "Epoch 23/100\n",
      "25/25 [==============================] - 0s 2ms/step - loss: 0.2073 - accuracy: 0.9937 - val_loss: 0.2016 - val_accuracy: 0.9850\n",
      "Epoch 24/100\n",
      "25/25 [==============================] - 0s 2ms/step - loss: 0.1943 - accuracy: 0.9912 - val_loss: 0.1892 - val_accuracy: 0.9950\n",
      "Epoch 25/100\n",
      "25/25 [==============================] - 0s 2ms/step - loss: 0.1835 - accuracy: 0.9937 - val_loss: 0.1771 - val_accuracy: 0.9950\n",
      "Epoch 26/100\n",
      "25/25 [==============================] - 0s 2ms/step - loss: 0.1712 - accuracy: 0.9937 - val_loss: 0.1667 - val_accuracy: 0.9950\n",
      "Epoch 27/100\n",
      "25/25 [==============================] - 0s 2ms/step - loss: 0.1623 - accuracy: 0.9950 - val_loss: 0.1582 - val_accuracy: 0.9900\n",
      "Epoch 28/100\n",
      "25/25 [==============================] - 0s 2ms/step - loss: 0.1523 - accuracy: 0.9937 - val_loss: 0.1484 - val_accuracy: 0.9950\n",
      "Epoch 29/100\n",
      "25/25 [==============================] - 0s 2ms/step - loss: 0.1436 - accuracy: 0.9950 - val_loss: 0.1409 - val_accuracy: 0.9950\n",
      "Epoch 30/100\n",
      "25/25 [==============================] - 0s 2ms/step - loss: 0.1363 - accuracy: 0.9950 - val_loss: 0.1339 - val_accuracy: 0.9950\n",
      "Epoch 31/100\n",
      "25/25 [==============================] - 0s 2ms/step - loss: 0.1289 - accuracy: 0.9950 - val_loss: 0.1264 - val_accuracy: 0.9950\n",
      "Epoch 32/100\n",
      "25/25 [==============================] - 0s 2ms/step - loss: 0.1230 - accuracy: 0.9962 - val_loss: 0.1205 - val_accuracy: 0.9950\n",
      "Epoch 33/100\n",
      "25/25 [==============================] - 0s 2ms/step - loss: 0.1172 - accuracy: 0.9950 - val_loss: 0.1161 - val_accuracy: 0.9900\n",
      "Epoch 34/100\n",
      "25/25 [==============================] - 0s 2ms/step - loss: 0.1116 - accuracy: 0.9950 - val_loss: 0.1103 - val_accuracy: 0.9950\n",
      "Epoch 35/100\n",
      "25/25 [==============================] - 0s 2ms/step - loss: 0.1066 - accuracy: 0.9950 - val_loss: 0.1057 - val_accuracy: 0.9950\n",
      "Epoch 36/100\n",
      "25/25 [==============================] - 0s 2ms/step - loss: 0.1023 - accuracy: 0.9950 - val_loss: 0.1003 - val_accuracy: 0.9950\n",
      "Epoch 37/100\n",
      "25/25 [==============================] - 0s 2ms/step - loss: 0.0979 - accuracy: 0.9950 - val_loss: 0.0962 - val_accuracy: 0.9950\n",
      "Epoch 38/100\n",
      "25/25 [==============================] - 0s 2ms/step - loss: 0.0942 - accuracy: 0.9962 - val_loss: 0.0944 - val_accuracy: 0.9900\n",
      "Epoch 39/100\n",
      "25/25 [==============================] - 0s 2ms/step - loss: 0.0905 - accuracy: 0.9950 - val_loss: 0.0886 - val_accuracy: 0.9950\n",
      "Epoch 40/100\n",
      "25/25 [==============================] - 0s 2ms/step - loss: 0.0867 - accuracy: 0.9950 - val_loss: 0.0871 - val_accuracy: 0.9900\n",
      "Epoch 41/100\n",
      "25/25 [==============================] - 0s 2ms/step - loss: 0.0835 - accuracy: 0.9950 - val_loss: 0.0826 - val_accuracy: 0.9950\n",
      "Epoch 42/100\n",
      "25/25 [==============================] - 0s 2ms/step - loss: 0.0806 - accuracy: 0.9962 - val_loss: 0.0803 - val_accuracy: 0.9950\n",
      "Epoch 43/100\n",
      "25/25 [==============================] - 0s 2ms/step - loss: 0.0781 - accuracy: 0.9962 - val_loss: 0.0793 - val_accuracy: 0.9900\n",
      "Epoch 44/100\n",
      "25/25 [==============================] - 0s 2ms/step - loss: 0.0752 - accuracy: 0.9962 - val_loss: 0.0794 - val_accuracy: 0.9900\n",
      "Epoch 45/100\n",
      "25/25 [==============================] - 0s 2ms/step - loss: 0.0733 - accuracy: 0.9950 - val_loss: 0.0713 - val_accuracy: 0.9950\n",
      "Epoch 46/100\n",
      "25/25 [==============================] - 0s 2ms/step - loss: 0.0708 - accuracy: 0.9962 - val_loss: 0.0715 - val_accuracy: 0.9950\n",
      "Epoch 47/100\n",
      "25/25 [==============================] - 0s 2ms/step - loss: 0.0682 - accuracy: 0.9962 - val_loss: 0.0667 - val_accuracy: 1.0000\n",
      "Epoch 48/100\n",
      "25/25 [==============================] - 0s 2ms/step - loss: 0.0663 - accuracy: 0.9937 - val_loss: 0.0699 - val_accuracy: 0.9900\n",
      "Epoch 49/100\n",
      "25/25 [==============================] - 0s 2ms/step - loss: 0.0646 - accuracy: 0.9962 - val_loss: 0.0628 - val_accuracy: 1.0000\n",
      "Epoch 50/100\n",
      "25/25 [==============================] - 0s 2ms/step - loss: 0.0634 - accuracy: 0.9950 - val_loss: 0.0617 - val_accuracy: 0.9950\n",
      "Epoch 51/100\n",
      "25/25 [==============================] - 0s 2ms/step - loss: 0.0606 - accuracy: 0.9962 - val_loss: 0.0593 - val_accuracy: 1.0000\n",
      "Epoch 52/100\n",
      "25/25 [==============================] - 0s 2ms/step - loss: 0.0596 - accuracy: 0.9962 - val_loss: 0.0585 - val_accuracy: 0.9950\n",
      "Epoch 53/100\n",
      "25/25 [==============================] - 0s 2ms/step - loss: 0.0576 - accuracy: 0.9962 - val_loss: 0.0578 - val_accuracy: 0.9950\n",
      "Epoch 54/100\n",
      "25/25 [==============================] - 0s 2ms/step - loss: 0.0564 - accuracy: 0.9950 - val_loss: 0.0569 - val_accuracy: 0.9950\n",
      "Epoch 55/100\n",
      "25/25 [==============================] - 0s 2ms/step - loss: 0.0553 - accuracy: 0.9937 - val_loss: 0.0534 - val_accuracy: 1.0000\n",
      "Epoch 56/100\n",
      "25/25 [==============================] - 0s 2ms/step - loss: 0.0539 - accuracy: 0.9962 - val_loss: 0.0549 - val_accuracy: 0.9950\n",
      "Epoch 57/100\n",
      "25/25 [==============================] - 0s 2ms/step - loss: 0.0522 - accuracy: 0.9962 - val_loss: 0.0514 - val_accuracy: 1.0000\n",
      "Epoch 58/100\n",
      "25/25 [==============================] - 0s 2ms/step - loss: 0.0511 - accuracy: 0.9937 - val_loss: 0.0494 - val_accuracy: 1.0000\n"
     ]
    },
    {
     "name": "stdout",
     "output_type": "stream",
     "text": [
      "Epoch 59/100\n",
      "25/25 [==============================] - 0s 2ms/step - loss: 0.0499 - accuracy: 0.9950 - val_loss: 0.0513 - val_accuracy: 0.9950\n",
      "Epoch 60/100\n",
      "25/25 [==============================] - 0s 2ms/step - loss: 0.0487 - accuracy: 0.9950 - val_loss: 0.0474 - val_accuracy: 1.0000\n",
      "Epoch 61/100\n",
      "25/25 [==============================] - 0s 2ms/step - loss: 0.0480 - accuracy: 0.9950 - val_loss: 0.0470 - val_accuracy: 1.0000\n",
      "Epoch 62/100\n",
      "25/25 [==============================] - 0s 2ms/step - loss: 0.0468 - accuracy: 0.9962 - val_loss: 0.0469 - val_accuracy: 0.9950\n",
      "Epoch 63/100\n",
      "25/25 [==============================] - 0s 2ms/step - loss: 0.0459 - accuracy: 0.9962 - val_loss: 0.0451 - val_accuracy: 1.0000\n",
      "Epoch 64/100\n",
      "25/25 [==============================] - 0s 2ms/step - loss: 0.0454 - accuracy: 0.9950 - val_loss: 0.0445 - val_accuracy: 1.0000\n",
      "Epoch 65/100\n",
      "25/25 [==============================] - 0s 2ms/step - loss: 0.0442 - accuracy: 0.9950 - val_loss: 0.0427 - val_accuracy: 1.0000\n",
      "Epoch 66/100\n",
      "25/25 [==============================] - 0s 2ms/step - loss: 0.0432 - accuracy: 0.9962 - val_loss: 0.0416 - val_accuracy: 1.0000\n",
      "Epoch 67/100\n",
      "25/25 [==============================] - 0s 2ms/step - loss: 0.0429 - accuracy: 0.9937 - val_loss: 0.0408 - val_accuracy: 1.0000\n",
      "Epoch 68/100\n",
      "25/25 [==============================] - 0s 2ms/step - loss: 0.0418 - accuracy: 0.9950 - val_loss: 0.0429 - val_accuracy: 0.9950\n",
      "Epoch 69/100\n",
      "25/25 [==============================] - 0s 2ms/step - loss: 0.0411 - accuracy: 0.9962 - val_loss: 0.0412 - val_accuracy: 1.0000\n",
      "Epoch 70/100\n",
      "25/25 [==============================] - 0s 2ms/step - loss: 0.0401 - accuracy: 0.9962 - val_loss: 0.0413 - val_accuracy: 0.9950\n",
      "Epoch 71/100\n",
      "25/25 [==============================] - 0s 2ms/step - loss: 0.0399 - accuracy: 0.9962 - val_loss: 0.0395 - val_accuracy: 1.0000\n",
      "Epoch 72/100\n",
      "25/25 [==============================] - 0s 2ms/step - loss: 0.0386 - accuracy: 0.9950 - val_loss: 0.0368 - val_accuracy: 1.0000\n",
      "Epoch 73/100\n",
      "25/25 [==============================] - 0s 2ms/step - loss: 0.0386 - accuracy: 0.9962 - val_loss: 0.0366 - val_accuracy: 1.0000\n",
      "Epoch 74/100\n",
      "25/25 [==============================] - 0s 2ms/step - loss: 0.0380 - accuracy: 0.9950 - val_loss: 0.0373 - val_accuracy: 1.0000\n",
      "Epoch 75/100\n",
      "25/25 [==============================] - 0s 2ms/step - loss: 0.0374 - accuracy: 0.9950 - val_loss: 0.0358 - val_accuracy: 1.0000\n",
      "Epoch 76/100\n",
      "25/25 [==============================] - 0s 2ms/step - loss: 0.0365 - accuracy: 0.9950 - val_loss: 0.0344 - val_accuracy: 1.0000\n",
      "Epoch 77/100\n",
      "25/25 [==============================] - 0s 2ms/step - loss: 0.0359 - accuracy: 0.9962 - val_loss: 0.0350 - val_accuracy: 1.0000\n",
      "Epoch 78/100\n",
      "25/25 [==============================] - 0s 2ms/step - loss: 0.0353 - accuracy: 0.9962 - val_loss: 0.0344 - val_accuracy: 1.0000\n",
      "Epoch 79/100\n",
      "25/25 [==============================] - 0s 2ms/step - loss: 0.0350 - accuracy: 0.9962 - val_loss: 0.0333 - val_accuracy: 1.0000\n",
      "Epoch 80/100\n",
      "25/25 [==============================] - 0s 2ms/step - loss: 0.0337 - accuracy: 0.9950 - val_loss: 0.0325 - val_accuracy: 1.0000\n",
      "Epoch 81/100\n",
      "25/25 [==============================] - 0s 2ms/step - loss: 0.0345 - accuracy: 0.9962 - val_loss: 0.0316 - val_accuracy: 1.0000\n",
      "Epoch 82/100\n",
      "25/25 [==============================] - 0s 3ms/step - loss: 0.0337 - accuracy: 0.9962 - val_loss: 0.0320 - val_accuracy: 1.0000\n",
      "Epoch 83/100\n",
      "25/25 [==============================] - 0s 3ms/step - loss: 0.0328 - accuracy: 0.9950 - val_loss: 0.0319 - val_accuracy: 1.0000\n",
      "Epoch 84/100\n",
      "25/25 [==============================] - 0s 3ms/step - loss: 0.0324 - accuracy: 0.9962 - val_loss: 0.0317 - val_accuracy: 1.0000\n",
      "Epoch 85/100\n",
      "25/25 [==============================] - 0s 2ms/step - loss: 0.0318 - accuracy: 0.9962 - val_loss: 0.0297 - val_accuracy: 1.0000\n",
      "Epoch 86/100\n",
      "25/25 [==============================] - 0s 2ms/step - loss: 0.0315 - accuracy: 0.9962 - val_loss: 0.0301 - val_accuracy: 1.0000\n",
      "Epoch 87/100\n",
      "25/25 [==============================] - 0s 3ms/step - loss: 0.0312 - accuracy: 0.9950 - val_loss: 0.0296 - val_accuracy: 1.0000\n",
      "Epoch 88/100\n",
      "25/25 [==============================] - 0s 2ms/step - loss: 0.0306 - accuracy: 0.9962 - val_loss: 0.0284 - val_accuracy: 1.0000\n",
      "Epoch 89/100\n",
      "25/25 [==============================] - 0s 2ms/step - loss: 0.0306 - accuracy: 0.9962 - val_loss: 0.0291 - val_accuracy: 1.0000\n",
      "Epoch 90/100\n",
      "25/25 [==============================] - 0s 2ms/step - loss: 0.0303 - accuracy: 0.9962 - val_loss: 0.0283 - val_accuracy: 1.0000\n",
      "Epoch 91/100\n",
      "25/25 [==============================] - 0s 2ms/step - loss: 0.0298 - accuracy: 0.9962 - val_loss: 0.0284 - val_accuracy: 1.0000\n",
      "Epoch 92/100\n",
      "25/25 [==============================] - 0s 2ms/step - loss: 0.0290 - accuracy: 0.9962 - val_loss: 0.0270 - val_accuracy: 1.0000\n",
      "Epoch 93/100\n",
      "25/25 [==============================] - 0s 2ms/step - loss: 0.0289 - accuracy: 0.9962 - val_loss: 0.0277 - val_accuracy: 1.0000\n",
      "Epoch 94/100\n",
      "25/25 [==============================] - 0s 2ms/step - loss: 0.0290 - accuracy: 0.9962 - val_loss: 0.0266 - val_accuracy: 1.0000\n",
      "Epoch 95/100\n",
      "25/25 [==============================] - 0s 2ms/step - loss: 0.0280 - accuracy: 0.9962 - val_loss: 0.0258 - val_accuracy: 1.0000\n",
      "Epoch 96/100\n",
      "25/25 [==============================] - 0s 2ms/step - loss: 0.0280 - accuracy: 0.9962 - val_loss: 0.0268 - val_accuracy: 1.0000\n",
      "Epoch 97/100\n",
      "25/25 [==============================] - 0s 2ms/step - loss: 0.0280 - accuracy: 0.9962 - val_loss: 0.0254 - val_accuracy: 1.0000\n",
      "Epoch 98/100\n",
      "25/25 [==============================] - 0s 2ms/step - loss: 0.0277 - accuracy: 0.9962 - val_loss: 0.0257 - val_accuracy: 1.0000\n",
      "Epoch 99/100\n",
      "25/25 [==============================] - 0s 2ms/step - loss: 0.0272 - accuracy: 0.9975 - val_loss: 0.0254 - val_accuracy: 1.0000\n",
      "Epoch 100/100\n",
      "25/25 [==============================] - 0s 2ms/step - loss: 0.0269 - accuracy: 0.9962 - val_loss: 0.0250 - val_accuracy: 1.0000\n",
      "Model: \"functional_1\"\n",
      "_________________________________________________________________\n",
      "Layer (type)                 Output Shape              Param #   \n",
      "=================================================================\n",
      "input_1 (InputLayer)         [(None, 2)]               0         \n",
      "_________________________________________________________________\n",
      "dense_4 (Dense)              (None, 2)                 6         \n",
      "_________________________________________________________________\n",
      "dense_5 (Dense)              (None, 1)                 3         \n",
      "=================================================================\n",
      "Total params: 9\n",
      "Trainable params: 9\n",
      "Non-trainable params: 0\n",
      "_________________________________________________________________\n"
     ]
    }
   ],
   "source": [
    "history = model3.fit(x_train,\n",
    "                     t_train,\n",
    "                     epochs=100,\n",
    "                     batch_size=32,\n",
    "                     verbose=1,\n",
    "                     validation_data=(x_validation, t_validation)\n",
    "                   )\n",
    "\n",
    "model3.summary()"
   ]
  },
  {
   "cell_type": "code",
   "execution_count": 16,
   "id": "equivalent-apparel",
   "metadata": {
    "id": "equivalent-apparel"
   },
   "outputs": [
    {
     "data": {
      "text/plain": [
       "array([[0.9552352 ],\n",
       "       [0.03380454],\n",
       "       [0.99154574]], dtype=float32)"
      ]
     },
     "execution_count": 16,
     "metadata": {},
     "output_type": "execute_result"
    }
   ],
   "source": [
    "# 予測してみる(3個)。 0.5以上が1, 0.5未満が0を意味する。\n",
    "model2.predict([[5,6],[2,4], [7,8]])"
   ]
  },
  {
   "cell_type": "code",
   "execution_count": 17,
   "id": "neutral-caution",
   "metadata": {
    "id": "neutral-caution"
   },
   "outputs": [
    {
     "name": "stdout",
     "output_type": "stream",
     "text": [
      "10000\n"
     ]
    }
   ],
   "source": [
    "n_grid = 100\n",
    "px = np.linspace(-1, 10, n_grid)\n",
    "py = np.linspace(-1, 10, n_grid)\n",
    "xv, yv = np.meshgrid(px, py)\n",
    "xv = xv.flatten()\n",
    "yv = yv.flatten()\n",
    "z_grid = np.array(list(zip(xv, yv)))\n",
    "\n",
    "predicts = model2.predict(z_grid)\n",
    "print(len(predicts))\n",
    "    \n",
    "idx0 = [i for i in range(len(z_grid)) if predicts[i] < 0.5]\n",
    "idx1 = [i for i in range(len(z_grid)) if predicts[i] >= 0.5]"
   ]
  },
  {
   "cell_type": "code",
   "execution_count": 18,
   "id": "important-distance",
   "metadata": {
    "id": "important-distance"
   },
   "outputs": [
    {
     "data": {
      "image/png": "[encoded data removed]",
      "text/plain": [
       "<Figure size 720x720 with 1 Axes>"
      ]
     },
     "metadata": {
      "needs_background": "light"
     },
     "output_type": "display_data"
    }
   ],
   "source": [
    "%matplotlib inline\n",
    "import matplotlib.pyplot as plt\n",
    "\n",
    "fig, ax = plt.subplots(1, 1, figsize=(10,10))\n",
    "\n",
    "# background\n",
    "ax.scatter(z_grid[idx0,0], z_grid[idx0,1], marker='s', color='lightskyblue')\n",
    "ax.scatter(z_grid[idx1,0], z_grid[idx1,1], marker='s', color='palegreen')\n",
    "\n",
    "# training data\n",
    "ax.scatter(x_train_t0[:,0], x_train_t0[:, 1], marker='x', color='blue')\n",
    "ax.scatter(x_train_t1[:,0], x_train_t1[:, 1], marker='o', color='green')\n",
    "\n",
    "plt.show()"
   ]
  },
  {
   "cell_type": "code",
   "execution_count": null,
   "id": "seventh-calgary",
   "metadata": {
    "id": "seventh-calgary"
   },
   "outputs": [],
   "source": []
  }
 ],
 "metadata": {
  "accelerator": "GPU",
  "colab": {
   "collapsed_sections": [],
   "name": "tf2_book4_ch04_01.ipynb",
   "provenance": []
  },
  "kernelspec": {
   "display_name": "Python 3",
   "language": "python",
   "name": "python3"
  },
  "language_info": {
   "codemirror_mode": {
    "name": "ipython",
    "version": 3
   },
   "file_extension": ".py",
   "mimetype": "text/x-python",
   "name": "python",
   "nbconvert_exporter": "python",
   "pygments_lexer": "ipython3",
   "version": "3.6.12"
  }
 },
 "nbformat": 4,
 "nbformat_minor": 5
}
